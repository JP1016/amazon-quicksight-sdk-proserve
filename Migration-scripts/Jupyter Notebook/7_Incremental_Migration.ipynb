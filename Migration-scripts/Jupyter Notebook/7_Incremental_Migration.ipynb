{
 "cells": [
  {
   "cell_type": "markdown",
   "metadata": {},
   "source": [
    "<strong>QuickSight Incremental Migration</strong>\n",
    "\n",
    "Author: Ying Wang (Data Visualization Engineer in ProServe GSP)\n",
    "Date: July 15 2020\n"
   ]
  },
  {
   "cell_type": "code",
   "execution_count": null,
   "metadata": {},
   "outputs": [],
   "source": [
    "!pip install --upgrade pip\n",
    "!pip install --upgrade boto3\n",
    "get_ipython().system('pip install --upgrade ipynb')"
   ]
  },
  {
   "cell_type": "code",
   "execution_count": 1,
   "metadata": {},
   "outputs": [],
   "source": [
    "import boto3\n",
    "import json\n",
    "import time\n",
    "from IPython.display import JSON\n",
    "import sys\n",
    "import ipynb.fs \n",
    "import logging\n",
    "from typing import Any, Dict, List, Optional\n",
    "from datetime import datetime\n",
    "\n",
    "# current date and time\n",
    "now = str(datetime.now().strftime(\"%m-%d-%Y_%H_%M\"))"
   ]
  },
  {
   "cell_type": "markdown",
   "metadata": {},
   "source": [
    "Import functions from functions notebook"
   ]
  },
  {
   "cell_type": "code",
   "execution_count": 2,
   "metadata": {},
   "outputs": [],
   "source": [
    "from ipynb.fs.defs.Functions import data_sources\n",
    "from ipynb.fs.defs.Functions import describe_source \n",
    "from ipynb.fs.defs.Functions import delete_source\n",
    "from ipynb.fs.defs.Functions import create_data_source\n",
    "from ipynb.fs.defs.Functions import get_datasource_name\n",
    "from ipynb.fs.defs.Functions import get_datasource_ids\n",
    "from ipynb.fs.defs.Functions import update_data_source_permissions\n",
    "\n",
    "from ipynb.fs.defs.Functions import get_dataset_name\n",
    "from ipynb.fs.defs.Functions import data_sets\n",
    "from ipynb.fs.defs.Functions import describe_dataset\n",
    "from ipynb.fs.defs.Functions import get_dataset_ids\n",
    "from ipynb.fs.defs.Functions import delete_dataset \n",
    "from ipynb.fs.defs.Functions import create_dataset\n",
    "from ipynb.fs.defs.Functions import update_dataset\n",
    "from ipynb.fs.defs.Functions import update_data_set_permissions\n",
    "\n",
    "from ipynb.fs.defs.Functions import get_target\n",
    "\n",
    "from ipynb.fs.defs.Functions import templates\n",
    "from ipynb.fs.defs.Functions import delete_template\n",
    "from ipynb.fs.defs.Functions import update_template_permission \n",
    "from ipynb.fs.defs.Functions import copy_template\n",
    "from ipynb.fs.defs.Functions import describe_template\n",
    "from ipynb.fs.defs.Functions import create_template \n",
    "\n",
    "from ipynb.fs.defs.Functions import dashboards\n",
    "from ipynb.fs.defs.Functions import describe_dashboard\n",
    "from ipynb.fs.defs.Functions import create_dashboard \n",
    "from ipynb.fs.defs.Functions import delete_dashboard\n",
    "from ipynb.fs.defs.Functions import update_dashboard \n",
    "from ipynb.fs.defs.Functions import get_dashboard_ids\n",
    "from ipynb.fs.defs.Functions import get_dashboard_name\n",
    "\n",
    "#supportive functions\n",
    "from ipynb.fs.defs.Functions import data_sets_ls_of_dashboard\n",
    "from ipynb.fs.defs.Functions import data_sources_ls_of_dashboard\n",
    "from ipynb.fs.defs.Functions import get_data_source_migration_list\n",
    "from ipynb.fs.defs.Functions import get_user_arn\n",
    "from ipynb.fs.defs.Functions import _assume_role"
   ]
  },
  {
   "cell_type": "markdown",
   "metadata": {},
   "source": [
    "<strong>Static Profile</strong>\n",
    "\n",
    "You can configure AWS profile from terminal and call the profile in below cell"
   ]
  },
  {
   "cell_type": "code",
   "execution_count": 3,
   "metadata": {},
   "outputs": [],
   "source": [
    "sourceprofile=''\n",
    "targetprofile=''\n",
    "aws_region='us-east-1'\n",
    "sourcesession = boto3.Session(profile_name=sourceprofile, region_name=aws_region)\n",
    "targetsession = boto3.Session(profile_name=targetprofile, region_name=aws_region)\n"
   ]
  },
  {
   "cell_type": "markdown",
   "metadata": {},
   "source": [
    "<strong>Assume Role</strong>\n",
    "\n",
    "You can also assume an IAM role and create session based on the role permissions"
   ]
  },
  {
   "cell_type": "code",
   "execution_count": null,
   "metadata": {},
   "outputs": [],
   "source": [
    "#source account\n",
    "sourceaccountid=<account_id>\n",
    "role_name=<role_name>\n",
    "aws_region='us-east-1'\n",
    "sourcesession = _assume_role(sourceaccountid, role_name, aws_region)"
   ]
  },
  {
   "cell_type": "code",
   "execution_count": null,
   "metadata": {},
   "outputs": [],
   "source": [
    "#target account\n",
    "targetaccountid=\"\"\n",
    "role_name=\"\"\n",
    "aws_region='us-east-1'\n",
    "targetsession = _assume_role(targetaccountid, role_name, aws_region)\n",
    "#targetsession = boto3.Session(\n",
    "#        aws_access_key_id=\"\",\n",
    "#        aws_secret_access_key=\"\",\n",
    "#        aws_session_token=\"\",\n",
    "#        region_name=aws_region\n",
    "#    )"
   ]
  },
  {
   "cell_type": "markdown",
   "metadata": {},
   "source": [
    "<strong>Set root and admin users</strong>\n",
    "\n",
    "root user is for the template. \n",
    "By default, we assign full permissions of objects to admin."
   ]
  },
  {
   "cell_type": "code",
   "execution_count": 4,
   "metadata": {},
   "outputs": [],
   "source": [
    "sourceroot=get_user_arn (sourcesession, 'root')\n",
    "sourceadmin=get_user_arn (sourcesession, 'Administrator/wangzyn-Isengard')\n",
    "#sourceversion='1'\n",
    "\n",
    "targetroot=get_user_arn (targetsession, 'root')\n",
    "targetadmin=get_user_arn (targetsession, 'Admin/wangzyn-Isengard')\n",
    "#targetvpc='arn:aws:quicksight:us-east-1:889399602426:vpcConnection/sg-40b7521a'"
   ]
  },
  {
   "cell_type": "markdown",
   "metadata": {},
   "source": [
    "<strong>Please define your input parameters in below cell</strong>"
   ]
  },
  {
   "cell_type": "code",
   "execution_count": 5,
   "metadata": {},
   "outputs": [
    {
     "data": {
      "application/json": {
       "credential": {
        "rdscredential": {
         "CredentialPair": {
          "Password": "",
          "Username": ""
         }
        },
        "redshiftcredential": {
         "CredentialPair": {
          "Password": "Ro_user1234",
          "Username": "ro_user"
         }
        }
       },
       "datasetpermission": [
        {
         "Actions": [
          "quicksight:UpdateDataSetPermissions",
          "quicksight:DescribeDataSet",
          "quicksight:DescribeDataSetPermissions",
          "quicksight:PassDataSet",
          "quicksight:DescribeIngestion",
          "quicksight:ListIngestions",
          "quicksight:UpdateDataSet",
          "quicksight:DeleteDataSet",
          "quicksight:CreateIngestion",
          "quicksight:CancelIngestion"
         ],
         "Principal": "arn:aws:quicksight:us-east-1:387046087588:user/default/Admin/wangzyn-Isengard"
        }
       ],
       "datasourcepermission": [
        {
         "Actions": [
          "quicksight:DescribeDataSource",
          "quicksight:DescribeDataSourcePermissions",
          "quicksight:PassDataSource",
          "quicksight:UpdateDataSource",
          "quicksight:DeleteDataSource",
          "quicksight:UpdateDataSourcePermissions"
         ],
         "Principal": "arn:aws:quicksight:us-east-1:387046087588:user/default/Admin/wangzyn-Isengard"
        }
       ],
       "rds": {
        "rdsinstanceid": "mssql"
       },
       "redshift": {
        "ClusterId": "wangzyncluster1",
        "Database": "dev",
        "Host": "wangzyncluster1.coprq8ycemvc.us-east-1.redshift.amazonaws.com"
       },
       "s3": {
        "manifestBucket": "spaceneedle-samplefiles.prod.us-east-1",
        "manifestkey": "sales/manifest.json"
       },
       "tag": [
        {
         "Key": "covid-19-dashboard-migration",
         "Value": "true"
        }
       ],
       "version": "1",
       "vpc": "arn:aws:quicksight:us-east-1:387046087588:vpcConnection/sg-40b7521a"
      },
      "text/plain": [
       "<IPython.core.display.JSON object>"
      ]
     },
     "execution_count": 5,
     "metadata": {
      "application/json": {
       "expanded": false,
       "root": "root"
      }
     },
     "output_type": "execute_result"
    }
   ],
   "source": [
    "rds='mssql'\n",
    "redshift={\n",
    "    \"ClusterId\": 'wangzyncluster1',\n",
    "    \"Host\": 'wangzyncluster1.coprq8ycemvc.us-east-1.redshift.amazonaws.com',\n",
    "    \"Database\": 'dev'}\n",
    "\n",
    "s3Bucket='spaceneedle-samplefiles.prod.us-east-1'\n",
    "s3Key='sales/manifest.json'\n",
    "vpc='sg-40b7521a'\n",
    "tag=[\n",
    "        {\n",
    "            'Key': 'covid-19-dashboard-migration',\n",
    "            'Value': 'true'\n",
    "        }\n",
    "    ]\n",
    "owner=targetadmin\n",
    "rdscredential={\n",
    "        'CredentialPair': {\n",
    "            'Username': \"\",\n",
    "            'Password': \"\"}}\n",
    "redshiftcredential={\n",
    "        'CredentialPair': {\n",
    "            'Username': \"ro_user\",\n",
    "            'Password': \"Ro_user1234\"}}\n",
    "region='us-east-1'\n",
    "namespace='default'\n",
    "version='1' \n",
    "\n",
    "target=get_target(targetsession, rds,redshift,s3Bucket,s3Key,vpc,tag,owner,rdscredential,redshiftcredential)\n",
    "\n",
    "JSON(target)"
   ]
  },
  {
   "cell_type": "markdown",
   "metadata": {},
   "source": [
    "<strong>Migration List<strong/>"
   ]
  },
  {
   "cell_type": "code",
   "execution_count": 6,
   "metadata": {},
   "outputs": [],
   "source": [
    "migrate_p = 'dashboard' \n",
    "\"\"\"\"\n",
    "\"all\" will migrate data source, dataset and dashboard;\n",
    "\"source\" means data sources only; \n",
    "\"dataset\" means datasets only; \n",
    "\"dashboard\" means dashboard only\n",
    "\"\"\" \n",
    "\n",
    "source_migrate_list = [\"redshift-auto\", \"mssql\", \"athena_1\",\"redshift_manual\"]\n",
    "dataset_migrate_list = [\"patient_info\"]\n",
    "dashboard_migrate_list = [\"QuickSight_Access_Last_24_H\", \"Marketing Dashboard\"]"
   ]
  },
  {
   "cell_type": "code",
   "execution_count": 8,
   "metadata": {},
   "outputs": [
    {
     "name": "stdout",
     "output_type": "stream",
     "text": [
      "QuickSight_Access_Last_24_H\n",
      "['athena_1']\n",
      "['quicksight_access_last_24h']\n",
      "Marketing Dashboard\n",
      "['redshift_manual']\n",
      "['patient_info']\n"
     ]
    }
   ],
   "source": [
    "if migrate_p in ['dashboard']:\n",
    "    source_migrate_list=[]\n",
    "    dataset_migrate_list=[]\n",
    "    for dashboard in dashboard_migrate_list:\n",
    "        print(dashboard)\n",
    "        datasources=data_sources_ls_of_dashboard(dashboard, sourcesession)\n",
    "        print(datasources)\n",
    "        for datasource in datasources:\n",
    "            source_migrate_list.append(datasource)\n",
    "        datasets=data_sets_ls_of_dashboard(dashboard, sourcesession)\n",
    "        print(datasets)\n",
    "        for dataset in datasets:\n",
    "            dataset_migrate_list.append(dataset)\n",
    "    \n",
    "if migrate_p in ['all']:\n",
    "    for dashboard in dashboard_migrate_list:\n",
    "        datasources=data_sources_ls_of_dashboard(dashboard, sourcesession)\n",
    "        for datasource in datasources:\n",
    "            source_migrate_list.append(datasource)\n",
    "        datasets=data_sets_ls_of_dashboard(dashboard, sourcesession)\n",
    "        for dataset in datasets:\n",
    "            dataset_migrate_list.append(dataset)"
   ]
  },
  {
   "cell_type": "code",
   "execution_count": 9,
   "metadata": {},
   "outputs": [
    {
     "data": {
      "text/plain": [
       "['QuickSight_Access_Last_24_H', 'Marketing Dashboard']"
      ]
     },
     "execution_count": 9,
     "metadata": {},
     "output_type": "execute_result"
    }
   ],
   "source": [
    "dashboard_migrate_list"
   ]
  },
  {
   "cell_type": "code",
   "execution_count": 10,
   "metadata": {},
   "outputs": [
    {
     "data": {
      "text/plain": [
       "['quicksight_access_last_24h', 'patient_info']"
      ]
     },
     "execution_count": 10,
     "metadata": {},
     "output_type": "execute_result"
    }
   ],
   "source": [
    "dataset_migrate_list"
   ]
  },
  {
   "cell_type": "code",
   "execution_count": 11,
   "metadata": {},
   "outputs": [
    {
     "data": {
      "text/plain": [
       "['athena_1', 'redshift_manual']"
      ]
     },
     "execution_count": 11,
     "metadata": {},
     "output_type": "execute_result"
    }
   ],
   "source": [
    "source_migrate_list"
   ]
  },
  {
   "cell_type": "markdown",
   "metadata": {},
   "source": [
    "<strong>Results Output Location<strong/>"
   ]
  },
  {
   "cell_type": "code",
   "execution_count": 12,
   "metadata": {},
   "outputs": [
    {
     "name": "stdout",
     "output_type": "stream",
     "text": [
      "Creation of the directory Migration_Results/Successful/ failed\n",
      "Creation of the directory Migration_Results/Fail/ failed\n"
     ]
    }
   ],
   "source": [
    "#\n",
    "successlocation = \"Migration_Results/Successful/\"\n",
    "faillocation = \"Migration_Results/Fail/\"\n",
    "\n",
    "import os\n",
    "try:\n",
    "    os.makedirs(successlocation)\n",
    "except OSError:\n",
    "    print (\"Creation of the directory %s failed\" % successlocation)\n",
    "else:\n",
    "    print (\"Successfully created the directory %s\" % successlocation)\n",
    "\n",
    "try:\n",
    "    os.makedirs(faillocation)\n",
    "except OSError:\n",
    "    print (\"Creation of the directory %s failed\" % faillocation)\n",
    "else:\n",
    "    print (\"Successfully created the directory %s\" % faillocation)"
   ]
  },
  {
   "cell_type": "markdown",
   "metadata": {},
   "source": [
    "<strong>Migrate data sources<strong/>"
   ]
  },
  {
   "cell_type": "code",
   "execution_count": 13,
   "metadata": {},
   "outputs": [],
   "source": [
    "migration_list=get_data_source_migration_list(sourcesession,source_migrate_list)"
   ]
  },
  {
   "cell_type": "code",
   "execution_count": 14,
   "metadata": {},
   "outputs": [
    {
     "name": "stdout",
     "output_type": "stream",
     "text": [
      "['18e39ce0-57a8-483b-af1f-cfa43c2bd34b']\n"
     ]
    }
   ],
   "source": [
    "#get data sources which already migrated\n",
    "targetsources=data_sources(targetsession)\n",
    "\n",
    "#already_migrated record the data source ids of target account\n",
    "already_migrated=[]\n",
    "for tsource in targetsources:\n",
    "    already_migrated.append(tsource['DataSourceId'])\n",
    "\n",
    "print(already_migrated)"
   ]
  },
  {
   "cell_type": "markdown",
   "metadata": {},
   "source": [
    "<strong>Create data sources in target account</strong>"
   ]
  },
  {
   "cell_type": "code",
   "execution_count": 15,
   "metadata": {},
   "outputs": [
    {
     "name": "stdout",
     "output_type": "stream",
     "text": [
      "73ebc3dd-d3b1-403f-8c99-d00b652edbf9\n",
      "f1123c10-8a6a-4316-9475-a3efd163f539\n"
     ]
    }
   ],
   "source": [
    "faillist=[]\n",
    "newsourceslist=[]\n",
    "for i in migration_list:\n",
    "    if i['DataSourceId'] not in already_migrated and 'DataSourceParameters' in i:\n",
    "        print(i['DataSourceId'])\n",
    "    #if 'DataSourceParameters' in i:\n",
    "        newdsource=create_data_source (i, targetsession, target)\n",
    "        if 'Error' in newdsource:\n",
    "            faillist.append(newdsource)\n",
    "\n",
    "        else: newsourceslist.append(newdsource)"
   ]
  },
  {
   "cell_type": "markdown",
   "metadata": {},
   "source": [
    "<strong>Write migration results:</strong>"
   ]
  },
  {
   "cell_type": "code",
   "execution_count": 16,
   "metadata": {},
   "outputs": [],
   "source": [
    "# Datasource_Creation_Error.json records the failure on create_data_source API call step\n",
    "with open(faillocation+now+'_Datasource_Creation_Error.json', \"w\") as f:\n",
    "            json.dump(faillist, f, indent=4, sort_keys=True, default=str)\n",
    "\n",
    "#Datasource_Creation_Fail.json records the creation_failed status data sources\n",
    "#Datasource_Creation_Success.json records the successful created data sources\n",
    "faillist2=[]\n",
    "successfulls=[]\n",
    "for news in newsourceslist:\n",
    "    datasource=describe_source(targetsession, news['DataSourceId'])\n",
    "\n",
    "    if datasource['DataSource']['Status']==\"CREATION_FAILED\":\n",
    "        delete_source (targetsession, news['DataSourceId'])\n",
    "        faillist2.append(news['DataSourceId'])\n",
    "\n",
    "    if datasource['DataSource']['Status']==\"CREATION_SUCCESSFUL\":\n",
    "            successfulls.append(datasource['DataSource'])\n",
    "\n",
    "    while datasource['DataSource']['Status']==\"CREATION_IN_PROGRESS\":\n",
    "        time.sleep(5)\n",
    "        datasource=describe_source(targetsession, news['DataSourceId'])\n",
    "        if datasource['DataSource']['Status']==\"CREATION_SUCCESSFUL\":\n",
    "            successfulls.append(datasource['DataSource'])\n",
    "            break\n",
    "        elif datasource['DataSource']['Status']==\"CREATION_FAILED\":\n",
    "            delete_source (targetsession, news['DataSourceId'])\n",
    "            faillist2.append(news['DataSourceId'])\n",
    "\n",
    "with open(faillocation+now+'_Datasource_Creation_Fail.json', \"w\") as f:\n",
    "    json.dump(faillist2, f, indent=4, sort_keys=True, default=str)\n",
    "\n",
    "with open(successlocation+now+'_Datasource_Creation_Success.json', \"w\") as f:\n",
    "    json.dump(successfulls, f, indent=4, sort_keys=True, default=str)\n"
   ]
  },
  {
   "cell_type": "code",
   "execution_count": 17,
   "metadata": {},
   "outputs": [
    {
     "data": {
      "text/plain": [
       "[{'Arn': 'arn:aws:quicksight:us-east-1:387046087588:datasource/73ebc3dd-d3b1-403f-8c99-d00b652edbf9',\n",
       "  'DataSourceId': '73ebc3dd-d3b1-403f-8c99-d00b652edbf9',\n",
       "  'Name': 'athena_1',\n",
       "  'Type': 'ATHENA',\n",
       "  'Status': 'CREATION_SUCCESSFUL',\n",
       "  'CreatedTime': datetime.datetime(2020, 8, 12, 14, 37, 53, 530000, tzinfo=tzlocal()),\n",
       "  'LastUpdatedTime': datetime.datetime(2020, 8, 12, 14, 37, 56, 305000, tzinfo=tzlocal()),\n",
       "  'DataSourceParameters': {'AthenaParameters': {'WorkGroup': 'primary'}},\n",
       "  'SslProperties': {'DisableSsl': False}},\n",
       " {'Arn': 'arn:aws:quicksight:us-east-1:387046087588:datasource/f1123c10-8a6a-4316-9475-a3efd163f539',\n",
       "  'DataSourceId': 'f1123c10-8a6a-4316-9475-a3efd163f539',\n",
       "  'Name': 'redshift_manual',\n",
       "  'Type': 'REDSHIFT',\n",
       "  'Status': 'CREATION_SUCCESSFUL',\n",
       "  'CreatedTime': datetime.datetime(2020, 8, 12, 16, 38, 44, 224000, tzinfo=tzlocal()),\n",
       "  'LastUpdatedTime': datetime.datetime(2020, 8, 12, 16, 38, 45, 159000, tzinfo=tzlocal()),\n",
       "  'DataSourceParameters': {'RedshiftParameters': {'Host': 'wangzyncluster1.coprq8ycemvc.us-east-1.redshift.amazonaws.com',\n",
       "    'Port': 8192,\n",
       "    'Database': 'dev'}},\n",
       "  'SslProperties': {'DisableSsl': False}},\n",
       " {'Arn': 'arn:aws:quicksight:us-east-1:387046087588:datasource/18e39ce0-57a8-483b-af1f-cfa43c2bd34b',\n",
       "  'DataSourceId': '18e39ce0-57a8-483b-af1f-cfa43c2bd34b',\n",
       "  'Name': 'Patient-Info.csv',\n",
       "  'Type': 'S3',\n",
       "  'CreatedTime': datetime.datetime(2020, 2, 14, 17, 42, 3, 798000, tzinfo=tzlocal()),\n",
       "  'LastUpdatedTime': datetime.datetime(2020, 2, 14, 17, 42, 5, 556000, tzinfo=tzlocal())}]"
      ]
     },
     "execution_count": 17,
     "metadata": {},
     "output_type": "execute_result"
    }
   ],
   "source": [
    "data_sources(targetsession)"
   ]
  },
  {
   "cell_type": "markdown",
   "metadata": {},
   "source": [
    "Get datasets list:"
   ]
  },
  {
   "cell_type": "markdown",
   "metadata": {},
   "source": [
    "#source account\n",
    "sourceaccountid=\"\"\n",
    "role_name=\"\"\n",
    "aws_region=''\n",
    "sourcesession = _assume_role(sourceaccountid, role_name, aws_region)"
   ]
  },
  {
   "cell_type": "markdown",
   "metadata": {},
   "source": [
    "#target account\n",
    "targetaccountid=\"\"\n",
    "role_name=\"\"\n",
    "aws_region='us-east-1'\n",
    "targetsession = _assume_role(targetaccountid, role_name, aws_region)"
   ]
  },
  {
   "cell_type": "code",
   "execution_count": 17,
   "metadata": {},
   "outputs": [
    {
     "data": {
      "application/json": [
       {
        "Arn": "arn:aws:quicksight:us-east-1:889399602426:dataset/5384026b-5bbf-4103-8325-551882c14342",
        "CreatedTime": "2020-07-21T16:29:23.941000",
        "DataSetId": "5384026b-5bbf-4103-8325-551882c14342",
        "ImportMode": "SPICE",
        "LastUpdatedTime": "2020-08-12T01:51:28.718000",
        "Name": "quicksight_access_last_24h"
       },
       {
        "Arn": "arn:aws:quicksight:us-east-1:889399602426:dataset/af720759-fb47-4541-8f80-36e7a95a9bcb",
        "CreatedTime": "2020-08-12T14:40:26.609000",
        "DataSetId": "af720759-fb47-4541-8f80-36e7a95a9bcb",
        "ImportMode": "SPICE",
        "LastUpdatedTime": "2020-08-12T14:40:26.802000",
        "Name": "patient_info"
       }
      ],
      "text/plain": [
       "<IPython.core.display.JSON object>"
      ]
     },
     "execution_count": 17,
     "metadata": {
      "application/json": {
       "expanded": false,
       "root": "root"
      }
     },
     "output_type": "execute_result"
    }
   ],
   "source": [
    "datasets=data_sets(sourcesession)\n",
    "\n",
    "migration_list=[]\n",
    "for newset in dataset_migrate_list:\n",
    "        ids = get_dataset_ids(newset, sourcesession)  #Get id of datasets migration list\n",
    "        for dataset in datasets:\n",
    "            if ids[0] == dataset[\"DataSetId\"]:\n",
    "                migration_list.append(dataset)\n",
    "\n",
    "JSON(migration_list)"
   ]
  },
  {
   "cell_type": "markdown",
   "metadata": {},
   "source": [
    "<strong>Get already migrated datasets list</strong>"
   ]
  },
  {
   "cell_type": "code",
   "execution_count": 19,
   "metadata": {},
   "outputs": [],
   "source": [
    "#get datasets which already migrated\n",
    "targetds=data_sets(targetsession)\n",
    "#already_migrated record the datasets ids of target account\n",
    "already_migrated=[]\n",
    "for ds in targetds:\n",
    "    already_migrated.append(ds['DataSetId'])\n",
    "#already_migrated"
   ]
  },
  {
   "cell_type": "markdown",
   "metadata": {},
   "source": [
    "Migrate Datasets"
   ]
  },
  {
   "cell_type": "code",
   "execution_count": 20,
   "metadata": {},
   "outputs": [],
   "source": [
    "newsetslist=[]\n",
    "faillist=[]\n",
    "sts_client = targetsession.client(\"sts\")\n",
    "account_id = sts_client.get_caller_identity()[\"Account\"]\n",
    "for mds in migration_list:\n",
    "    if mds['DataSetId'] not in already_migrated:\n",
    "        try:\n",
    "            res=describe_dataset(sourcesession, mds['DataSetId'])\n",
    "        except Exception:\n",
    "            faillist.append({\"Dataset\": mds, \"Error\": str(Exception)})\n",
    "            continue\n",
    "   \n",
    "        name=mds['Name']\n",
    "        datasetid=mds['DataSetId']\n",
    "\n",
    "        PT=res['DataSet']['PhysicalTableMap']\n",
    "        for key, value in PT.items():\n",
    "            for k,v in value.items():\n",
    "                dsid = v['DataSourceArn'].split(\"/\")[1]\n",
    "                v['DataSourceArn']='arn:aws:quicksight:us-east-1:'+account_id+':datasource/'+dsid\n",
    "\n",
    "        LT=res['DataSet']['LogicalTableMap']\n",
    "        if 'ColumnGroups' in res['DataSet']:\n",
    "            ColumnGroups=res['DataSet']['ColumnGroups']\n",
    "        else: ColumnGroups=None\n",
    "        try: \n",
    "            newdataset=create_dataset(targetsession, datasetid, name, PT, LT, res['DataSet']['ImportMode'], target['datasetpermission'],ColumnGroups)\n",
    "            #print(\"new dataset: \", newdataset)\n",
    "            newsetslist.append(newdataset)\n",
    "        except Exception as e:\n",
    "            #print('failed: '+str(e))\n",
    "            faillist.append({\"DataSetId\": datasetid, \"Name\": name, \"Error\": str(e)})\n",
    "\n",
    "            continue\n",
    "            \n",
    "    if mds['DataSetId'] in already_migrated:\n",
    "        try:\n",
    "            res=describe_dataset(sourcesession, mds['DataSetId'])\n",
    "        except Exception:\n",
    "            faillist.append({\"Dataset\": mds, \"Error\": str(Exception)})\n",
    "            continue\n",
    " \n",
    "        name=mds['Name']\n",
    "        datasetid=mds['DataSetId']\n",
    "\n",
    "        PT=res['DataSet']['PhysicalTableMap']\n",
    "        for key, value in PT.items():\n",
    "            for k,v in value.items():\n",
    "                dsid = v['DataSourceArn'].split(\"/\")[1]\n",
    "                v['DataSourceArn']='arn:aws:quicksight:us-east-1:'+account_id+':datasource/'+dsid\n",
    "\n",
    "        LT=res['DataSet']['LogicalTableMap']\n",
    "        if 'ColumnGroups' in res['DataSet']:\n",
    "            ColumnGroups=res['DataSet']['ColumnGroups']\n",
    "        else: ColumnGroups=None\n",
    "        try: \n",
    "            newdataset=update_dataset(targetsession, datasetid, name, PT, LT, res['DataSet']['ImportMode'],ColumnGroups)\n",
    "            #print(\"new dataset: \", newdataset)\n",
    "            newsetslist.append(newdataset)\n",
    "        except Exception as e:\n",
    "            #print('failed: '+str(e))\n",
    "            faillist.append({\"DataSetId\": datasetid, \"Name\": name, \"Error\": str(e)})\n",
    "\n",
    "            continue\n",
    "            "
   ]
  },
  {
   "cell_type": "code",
   "execution_count": 21,
   "metadata": {},
   "outputs": [],
   "source": [
    "#print fail informations\n",
    "with open(faillocation+now+'Dataset_Creation_Error.json', \"w\") as f:\n",
    "            json.dump(faillist, f, indent=4, sort_keys=True, default=str)\n",
    "\n",
    "successfulls=[]\n",
    "for news in newsetslist:\n",
    "    dataset=describe_dataset(targetsession, news['DataSetId'])\n",
    "    successfulls.append(dataset['DataSet'])\n",
    "    \n",
    "with open(successlocation+now+'Datasets_Creation_Success.json', \"w\") as f:\n",
    "    json.dump(successfulls, f, indent=4, sort_keys=True, default=str)\n"
   ]
  },
  {
   "cell_type": "markdown",
   "metadata": {},
   "source": [
    "Get dashboards list"
   ]
  },
  {
   "cell_type": "markdown",
   "metadata": {},
   "source": [
    "#source account\n",
    "sourceaccountid=\"\"\n",
    "role_name=\"\"\n",
    "aws_region='us-east-1'\n",
    "sourcesession = _assume_role(sourceaccountid, role_name, aws_region)"
   ]
  },
  {
   "cell_type": "markdown",
   "metadata": {},
   "source": [
    "#target account\n",
    "targetaccountid=\"\"\n",
    "role_name=\"\"\n",
    "aws_region='us-east-1'\n",
    "targetsession = _assume_role(targetaccountid, role_name, aws_region)"
   ]
  },
  {
   "cell_type": "code",
   "execution_count": 24,
   "metadata": {},
   "outputs": [
    {
     "data": {
      "application/json": [
       {
        "Arn": "arn:aws:quicksight:us-east-1:889399602426:dashboard/d07274b8-9a74-4abe-bafc-411fa1bf595f",
        "CreatedTime": "2020-08-12T01:53:41.809000",
        "DashboardId": "d07274b8-9a74-4abe-bafc-411fa1bf595f",
        "LastPublishedTime": "2020-08-12T01:53:41.809000",
        "LastUpdatedTime": "2020-08-12T01:53:41.803000",
        "Name": "QuickSight_Access_Last_24_H",
        "PublishedVersionNumber": 1
       },
       {
        "Arn": "arn:aws:quicksight:us-east-1:889399602426:dashboard/5ed80a5d-7e8b-46a2-bece-cd1dcb607a7e",
        "CreatedTime": "2020-07-26T02:13:23.805000",
        "DashboardId": "5ed80a5d-7e8b-46a2-bece-cd1dcb607a7e",
        "LastPublishedTime": "2020-07-26T02:13:23.805000",
        "LastUpdatedTime": "2020-08-12T16:18:32.591000",
        "Name": "Marketing Dashboard",
        "PublishedVersionNumber": 3
       }
      ],
      "text/plain": [
       "<IPython.core.display.JSON object>"
      ]
     },
     "execution_count": 24,
     "metadata": {
      "application/json": {
       "expanded": false,
       "root": "root"
      }
     },
     "output_type": "execute_result"
    }
   ],
   "source": [
    "sourcedashboards=dashboards(sourcesession)\n",
    "\n",
    "#Get id of datasets migration list\n",
    "migration_list=[]\n",
    "for newset in dashboard_migrate_list:\n",
    "        ids = get_dashboard_ids(newset, sourcesession)\n",
    "        for dashboard in sourcedashboards:\n",
    "            if ids[0] == dashboard[\"DashboardId\"]:\n",
    "                migration_list.append(dashboard)\n",
    "\n",
    "JSON(migration_list)"
   ]
  },
  {
   "cell_type": "markdown",
   "metadata": {},
   "source": [
    "Migrate dashboards"
   ]
  },
  {
   "cell_type": "code",
   "execution_count": 25,
   "metadata": {},
   "outputs": [
    {
     "name": "stdout",
     "output_type": "stream",
     "text": [
      "Template is successful copied!\n",
      "quicksight_access_last_24h\n",
      "Create new dashboard now:\n",
      "Template is successful copied!\n",
      "patient_info\n",
      "Create new dashboard now:\n"
     ]
    }
   ],
   "source": [
    "success=[]\n",
    "faillist=[]\n",
    "for dashboard in migration_list:\n",
    "    sourcedashboard=describe_dashboard(sourcesession, dashboard['DashboardId'])\n",
    "    SourceEntityArn=sourcedashboard['Dashboard']['Version']['SourceEntityArn']\n",
    "    if SourceEntityArn.split(\"/\")[0].split(\":\")[-1]==\"analysis\":\n",
    "        sourceanalysis=sourcedashboard['Dashboard']['Version']['SourceEntityArn']\n",
    "    else: \n",
    "        faillist.append({\"Error Type\": \"Source Analysis is missing!\",\"DashboardId\": sourcetid, \"Name\": sourcetname, \"Error\": \"Source Analysis is missing!\"})\n",
    "        continue\n",
    "    sourceversion=sourcedashboard['Dashboard']['Version']['VersionNumber']\n",
    "    sourcedid=sourcedashboard['Dashboard']['DashboardId']\n",
    "    sourcedname=sourcedashboard['Dashboard']['Name']\n",
    "    sourcetid=sourcedid\n",
    "    sourcetname=sourcedname\n",
    "    targettid=sourcetid\n",
    "    targettname=sourcedname\n",
    "    DataSetArns=sourcedashboard['Dashboard']['Version']['DataSetArns']\n",
    "    sourcedsref = []\n",
    "    #print(sourcedname)\n",
    "    for i in DataSetArns:\n",
    "        missing=False\n",
    "        did = i.split(\"/\")[1]\n",
    "        try:\n",
    "            dname=get_dataset_name(did, sourcesession)\n",
    "        except Exception as e:\n",
    "            faillist.append({\"Error Type\": \"Dataset: \"+did+\" is missing!\",\"DashboardId\": sourcetid, \"Name\": sourcetname, \"Error\": str(e)})\n",
    "            missing=True\n",
    "            break\n",
    "            \n",
    "        sourcedsref.append({'DataSetPlaceholder': dname,\n",
    "                    'DataSetArn': i})\n",
    "    if missing: continue\n",
    "    try:\n",
    "        sourcetemplate = create_template(sourcesession, sourcetid, sourcetname, sourcedsref, sourceanalysis, '1')\n",
    "        sourcetemplate=describe_template(sourcesession,sourcetid)\n",
    "    except Exception as e:\n",
    "        faillist.append({\"Error Type\": \"Create Source Template Error\",\"DashboardId\": sourcetid, \"Name\": sourcetname, \"Error\": str(e)})\n",
    "        continue\n",
    "    \n",
    "    while sourcetemplate['Template']['Version']['Status']==\"CREATION_IN_PROGRESS\":\n",
    "        time.sleep(5)\n",
    "        sourcetemplate=describe_template(sourcesession,sourcetid)\n",
    "        if sourcetemplate['Template']['Version']['Status']==\"CREATION_SUCCESSFUL\":\n",
    "            try:\n",
    "                updateres=update_template_permission(sourcesession, sourcetid, targetroot)\n",
    "            except Exception as e:\n",
    "                delete_template(sourcesession, sourcetid)\n",
    "                faillist.append({\"Error Type\": \"Update Source Template Permission Error\",\n",
    "                                 \"DashboardId\": sourcetid, \n",
    "                                 \"Name\": sourcetname, \n",
    "                                 \"Error\": str(e)})\n",
    "    else: \n",
    "        if sourcetemplate['Template']['Version']['Status']==\"CREATION_SUCCESSFUL\":\n",
    "            try:\n",
    "                updateres=update_template_permission(sourcesession, sourcetid, targetroot)\n",
    "            except Exception as e:\n",
    "                delete_template(sourcesession, sourcetid)\n",
    "                faillist.append({\"Error Type\": \"Update Source Template Permission Error\",\n",
    "                                 \"DashboardId\": sourcetid, \n",
    "                                 \"Name\": sourcetname, \n",
    "                                 \"Error\": str(e)})\n",
    "                continue\n",
    "\n",
    "    if updateres['Status']==200:\n",
    "        try:\n",
    "            targettemplate=copy_template(targetsession, targettid, targettname, updateres['TemplateArn'])\n",
    "        except Exception as e:\n",
    "            delete_template(sourcesession, sourcetid)\n",
    "            faillist.append({\"Error Type\": \"Copy Template Error\",\n",
    "                             \"DashboardId\": sourcetid, \n",
    "                             \"Name\": sourcetname, \n",
    "                             \"Error\": str(e)}) \n",
    "            continue\n",
    "    else: \n",
    "        delete_template(sourcesession, sourcetid)\n",
    "        faillist.append({\"Error Type\": \"Update Source Template Permission Error\",\n",
    "                                 \"DashboardId\": sourcetid, \n",
    "                                 \"Name\": sourcetname, \n",
    "                                 \"Error\": str(e)})\n",
    "        continue\n",
    "    \n",
    "    targettemplate=describe_template(targetsession,targettid)\n",
    "   \n",
    "    while targettemplate['Template']['Version']['Status']==\"CREATION_IN_PROGRESS\":\n",
    "        time.sleep(5)\n",
    "        targettemplate=describe_template(targetsession,targettid)\n",
    "        if targettemplate['Template']['Version']['Status']==\"CREATION_SUCCESSFUL\":\n",
    "            break\n",
    "    else: \n",
    "        if targettemplate['Template']['Version']['Status']==\"CREATION_SUCCESSFUL\":\n",
    "            print(\"Template is successful copied!\")\n",
    "        else: \n",
    "            delete_template(targetsession, targettid)\n",
    "            faillist.append({\"Error Type\": \"Copy Template Error\",\n",
    "                                 \"DashboardId\": sourcetid, \n",
    "                                 \"Name\": sourcetname, \n",
    "                                 \"Error\": str(e)})\n",
    "            continue\n",
    "    \n",
    "    ds=data_sets (targetsession)\n",
    "    Template=targettemplate['Template']\n",
    "    dsref=[]\n",
    "    #print(Template['Version']['DataSetConfigurations'])\n",
    "    missing=False\n",
    "    for i in Template['Version']['DataSetConfigurations']:\n",
    "        #print(\"i is \"+str(i))\n",
    "        n=Template['Version']['DataSetConfigurations'].index(i)\n",
    "        #print(\"n is \"+str(n))\n",
    "        for j in ds:\n",
    "            if i['Placeholder']==j['Name']:\n",
    "                print(j['Name'])\n",
    "                dsref.append({\n",
    "                    'DataSetPlaceholder': i['Placeholder'],\n",
    "                    'DataSetArn': j['Arn']\n",
    "                })\n",
    "                break\n",
    "                print(\"len of dsref is \"+str(len(dsref)))\n",
    "                print(dsref)\n",
    "        if (n+1)>len(dsref): \n",
    "            e=\"Dataset \"+i['Placeholder']+\" is missing!\"\n",
    "            faillist.append({\"Error Type\": \"Datasets in target env are missing for this dashboard\",\n",
    "                                 \"DashboardId\": sourcetid, \n",
    "                                 \"Name\": sourcetname, \n",
    "                                 \"Error\": str(e)})\n",
    "            missing=True\n",
    "            break\n",
    "        if missing: break\n",
    "    if missing: continue\n",
    "    #print(\"len of dsref is \"+str(len(dsref)))\n",
    "    #print(dsref)    \n",
    "    SourceEntity={\n",
    "        'SourceTemplate': {\n",
    "            'DataSetReferences': dsref,\n",
    "            'Arn': Template['Arn']\n",
    "        }\n",
    "    }\n",
    "    #print(SourceEntity)\n",
    "    dashboard=describe_dashboard(targetsession, targettid)\n",
    "\n",
    "    if 'Faild to describe dashboard:' in dashboard:\n",
    "        if 'dashboard/'+targettid+' is not found' in dashboard:\n",
    "            print(\"Create new dashboard now:\")\n",
    "            try:\n",
    "                newdashboard=create_dashboard(targetsession, targettid, targettname,targetadmin, SourceEntity, '1', filter='ENABLED',csv='ENABLED', sheetcontrol='COLLAPSED')\n",
    "            except Exception as e:\n",
    "                delete_template(targetsession, targettid)\n",
    "                faillist.append({\"Error Type\": \"Create New Dashboard Error\",\n",
    "                                 \"DashboardId\": targettid, \n",
    "                                 \"Name\": targettname, \n",
    "                                 \"Error\": str(e)}) \n",
    "                continue\n",
    "        else: \n",
    "            faillist.append({\"Error Type\": \"Describe Target Dashboard Error\",\n",
    "                                 \"DashboardId\": targettid, \n",
    "                                 \"Name\": targettname, \n",
    "                                 \"Error\": str(dashboard)}) \n",
    "            continue\n",
    "    elif dashboard['Dashboard']['Version']['Status']==\"CREATION_FAILED\":\n",
    "        res=delete_dashboard(targetsession, targettid)\n",
    "        try:\n",
    "            newdashboard=create_dashboard(targetsession, targettid, targettname,targetadmin, SourceEntity, '1', filter='ENABLED',csv='ENABLED', sheetcontrol='COLLAPSED')\n",
    "        except Exception as e:\n",
    "            delete_template(targetsession, targettid)\n",
    "            faillist.append({\"Error Type\": \"Create Dashboard Error\",\n",
    "                                 \"DashboardId\": targettid, \n",
    "                                 \"Name\": targettname, \n",
    "                                 \"Error\": str(e)})\n",
    "            continue\n",
    "            \n",
    "    else:\n",
    "        print(\"dashboard is existing. update it now.\")\n",
    "        try:\n",
    "            newdashboard=update_dashboard(targetsession, targettid, targettname, SourceEntity, target['version'], filter='ENABLED',csv='ENABLED', sheetcontrol='EXPANDED')\n",
    "        except Exception as e:\n",
    "            delete_template(targetsession, targettid)\n",
    "            faillist.append({\"Error Type\": \"Update Dashboard Error\",\n",
    "                                 \"DashboardId\": targettid, \n",
    "                                 \"Name\": targettname, \n",
    "                                 \"Error\": str(e)})\n",
    "            continue\n",
    "\n",
    "    res=describe_dashboard(targetsession,newdashboard['DashboardId'])\n",
    "    \n",
    "    if res['Status']==200:\n",
    "        status=res['Dashboard']['Version']['Status']\n",
    "        if status=='CREATION_SUCCESSFUL' or status=='UPDATE_SUCCESSFUL':\n",
    "            success.append(res['Dashboard'])\n",
    "            #filename=\"Migration_Results/Successful/Dashboard_\"+res['Dashboard']['Name']+\".json\"\n",
    "        else:\n",
    "            faillist.append({\"Error Type\": \"Dashboard Creation Status is not Successful\", \"Dashboard\": res['Dashboard']})\n",
    "\n",
    "            #filename=\"Migration_Results/Fail/Dashboard_\"+res['Dashboard']['Name']+\".json\""
   ]
  },
  {
   "cell_type": "code",
   "execution_count": 26,
   "metadata": {},
   "outputs": [],
   "source": [
    "with open(faillocation+now+'Dashboard_Error.json', \"w\") as f:\n",
    "            json.dump(faillist, f, indent=4, sort_keys=True, default=str)\n",
    "\n",
    "with open(successlocation+now+'Dashboard_Success.json', \"w\") as f:\n",
    "    json.dump(success, f, indent=4, sort_keys=True, default=str)\n"
   ]
  },
  {
   "cell_type": "markdown",
   "metadata": {},
   "source": [
    "<strong>Delete objects<strong/>"
   ]
  },
  {
   "cell_type": "markdown",
   "metadata": {},
   "source": [
    "# THIS WILL DELETE ALL TARGET DATASETS\n",
    "\n",
    "delete = \"template\"\n",
    "\n",
    "if delete == \"datasource\":   \n",
    "    for datasource in data_sources(targetsession):\n",
    "        #if datasource['Type'] == \"REDSHIFT\":\n",
    "        try:\n",
    "            delete_source (targetsession, datasource['DataSourceId'])\n",
    "        except Exception: pass \n",
    "elif delete == \"dataset\":\n",
    "    for dataset in data_sets(targetsession):\n",
    "        delete_dataset (targetsession, dataset['DataSetId'])\n",
    "elif delete == \"template\":    \n",
    "    for template in templates(targetsession):\n",
    "        delete_template(targetsession, template['TemplateId'])\n",
    "elif delete == \"dashboard\":    \n",
    "    for dashboard in dashboards(targetsession):\n",
    "        delete_dashboard(targetsession, dashboard['DashboardId'])\n",
    "delete =\"don't delete anything\""
   ]
  },
  {
   "cell_type": "markdown",
   "metadata": {},
   "source": [
    "Schedule notebooks to execute"
   ]
  },
  {
   "cell_type": "markdown",
   "metadata": {},
   "source": [
    "https://aws.amazon.com/blogs/machine-learning/scheduling-jupyter-notebooks-on-sagemaker-ephemeral-instances/"
   ]
  }
 ],
 "metadata": {
  "kernelspec": {
   "display_name": "conda_python3",
   "language": "python",
   "name": "conda_python3"
  },
  "language_info": {
   "codemirror_mode": {
    "name": "ipython",
    "version": 3
   },
   "file_extension": ".py",
   "mimetype": "text/x-python",
   "name": "python",
   "nbconvert_exporter": "python",
   "pygments_lexer": "ipython3",
   "version": "3.6.10"
  },
  "toc-showcode": false,
  "toc-showmarkdowntxt": true
 },
 "nbformat": 4,
 "nbformat_minor": 4
}

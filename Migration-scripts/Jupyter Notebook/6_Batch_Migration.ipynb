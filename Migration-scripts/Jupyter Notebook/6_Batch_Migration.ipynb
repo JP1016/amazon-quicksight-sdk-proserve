{
 "cells": [
  {
   "cell_type": "markdown",
   "metadata": {},
   "source": [
    "<strong>QuickSight Batch Migration</strong>\n",
    "\n",
    "Author: Ying Wang (Data Visualization Engineer in ProServe GSP)\n",
    "Date: April 16 2020\n"
   ]
  },
  {
   "cell_type": "code",
   "execution_count": null,
   "metadata": {},
   "outputs": [],
   "source": [
    "!pip install --upgrade pip\n",
    "!pip install --upgrade boto3\n",
    "get_ipython().system('pip install --upgrade ipynb')"
   ]
  },
  {
   "cell_type": "code",
   "execution_count": 1,
   "metadata": {},
   "outputs": [],
   "source": [
    "import boto3\n",
    "import json\n",
    "import time\n",
    "from IPython.display import JSON\n",
    "import sys\n",
    "import ipynb.fs \n",
    "import logging\n",
    "from typing import Any, Dict, List, Optional\n",
    "from datetime import datetime\n",
    "\n",
    "# current date and time\n",
    "now = str(datetime.now().strftime(\"%m-%d-%Y_%H_%M\"))"
   ]
  },
  {
   "cell_type": "code",
   "execution_count": 2,
   "metadata": {},
   "outputs": [],
   "source": [
    "from ipynb.fs.defs.Functions import data_sources\n",
    "from ipynb.fs.defs.Functions import describe_source \n",
    "from ipynb.fs.defs.Functions import delete_source\n",
    "from ipynb.fs.defs.Functions import create_data_source\n",
    "from ipynb.fs.defs.Functions import get_datasource_name\n",
    "from ipynb.fs.defs.Functions import get_datasource_ids\n",
    "from ipynb.fs.defs.Functions import update_data_source_permissions\n",
    "\n",
    "from ipynb.fs.defs.Functions import get_dataset_name\n",
    "from ipynb.fs.defs.Functions import data_sets\n",
    "from ipynb.fs.defs.Functions import describe_dataset\n",
    "from ipynb.fs.defs.Functions import get_dataset_ids\n",
    "from ipynb.fs.defs.Functions import delete_dataset \n",
    "from ipynb.fs.defs.Functions import create_dataset\n",
    "from ipynb.fs.defs.Functions import update_dataset\n",
    "from ipynb.fs.defs.Functions import update_data_set_permissions\n",
    "\n",
    "from ipynb.fs.defs.Functions import get_target\n",
    "\n",
    "from ipynb.fs.defs.Functions import templates\n",
    "from ipynb.fs.defs.Functions import delete_template\n",
    "from ipynb.fs.defs.Functions import update_template_permission \n",
    "from ipynb.fs.defs.Functions import copy_template\n",
    "from ipynb.fs.defs.Functions import describe_template\n",
    "from ipynb.fs.defs.Functions import create_template \n",
    "\n",
    "from ipynb.fs.defs.Functions import dashboards\n",
    "from ipynb.fs.defs.Functions import describe_dashboard\n",
    "from ipynb.fs.defs.Functions import create_dashboard \n",
    "from ipynb.fs.defs.Functions import delete_dashboard\n",
    "from ipynb.fs.defs.Functions import update_dashboard \n",
    "from ipynb.fs.defs.Functions import get_dashboard_ids\n",
    "from ipynb.fs.defs.Functions import get_dashboard_name\n",
    "\n",
    "#supportive functions\n",
    "from ipynb.fs.defs.Functions import data_sets_ls_of_dashboard\n",
    "from ipynb.fs.defs.Functions import data_sources_ls_of_dashboard\n",
    "from ipynb.fs.defs.Functions import get_data_source_migration_list\n",
    "from ipynb.fs.defs.Functions import get_user_arn\n",
    "from ipynb.fs.defs.Functions import _assume_role"
   ]
  },
  {
   "cell_type": "markdown",
   "metadata": {},
   "source": [
    "<strong>Static Profile</strong>\n",
    "\n",
    "You can configure AWS profile from terminal and call the profile in below cell"
   ]
  },
  {
   "cell_type": "code",
   "execution_count": 3,
   "metadata": {},
   "outputs": [],
   "source": [
    "sourceprofile=''\n",
    "targetprofile=''\n",
    "aws_region='us-east-1'\n",
    "sourcesession = boto3.Session(profile_name=sourceprofile, region_name=aws_region)\n",
    "targetsession = boto3.Session(profile_name=targetprofile, region_name=aws_region)"
   ]
  },
  {
   "cell_type": "markdown",
   "metadata": {},
   "source": [
    "<strong>Assume Role</strong>\n",
    "\n",
    "You can also assume an IAM role and create session based on the role permissions"
   ]
  },
  {
   "cell_type": "code",
   "execution_count": null,
   "metadata": {},
   "outputs": [],
   "source": [
    "#source account\n",
    "sourceaccountid=<account_id>\n",
    "role_name=<role_name>\n",
    "aws_region='us-east-1'\n",
    "sourcesession = _assume_role(sourceaccountid, role_name, aws_region)"
   ]
  },
  {
   "cell_type": "code",
   "execution_count": null,
   "metadata": {},
   "outputs": [],
   "source": [
    "#target account\n",
    "targetaccountid=\"\"\n",
    "role_name=\"\"\n",
    "aws_region='us-east-1'\n",
    "targetsession = _assume_role(targetaccountid, role_name, aws_region)\n",
    "#targetsession = boto3.Session(\n",
    "#        aws_access_key_id=\"\",\n",
    "#        aws_secret_access_key=\"\",\n",
    "#        aws_session_token=\"\",\n",
    "#        region_name=aws_region\n",
    "#    )"
   ]
  },
  {
   "cell_type": "markdown",
   "metadata": {},
   "source": [
    "<strong>Set root and admin users</strong>\n",
    "\n",
    "root user is for the template. \n",
    "By default, we assign full permissions of objects to admin."
   ]
  },
  {
   "cell_type": "code",
   "execution_count": 4,
   "metadata": {},
   "outputs": [],
   "source": [
    "def get_user_arn (session, username, region='us-east-1', namespace='default'): \n",
    "    sts_client = session.client(\"sts\")\n",
    "    account_id = sts_client.get_caller_identity()[\"Account\"]\n",
    "    if username=='root':\n",
    "        arn='arn:aws:iam::'+account_id+':'+username\n",
    "    else:\n",
    "        arn=\"arn:aws:quicksight:\"+region+\":\"+account_id+\":user/\"+namespace+\"/\"+username\n",
    "    \n",
    "    return arn\n",
    "    \n",
    "sourceroot=get_user_arn (sourcesession, 'root')\n",
    "sourceadmin=get_user_arn (sourcesession, 'Administrator/wangzyn-Isengard')\n",
    "#sourceversion='1'\n",
    "\n",
    "targetroot=get_user_arn (targetsession, 'root')\n",
    "targetadmin=get_user_arn (targetsession, 'Admin/wangzyn-Isengard')\n",
    "#targetvpc='arn:aws:quicksight:us-east-1:889399602426:vpcConnection/sg-40b7521a'"
   ]
  },
  {
   "cell_type": "markdown",
   "metadata": {},
   "source": [
    "<strong>Please define your input parameters in below cell</strong>"
   ]
  },
  {
   "cell_type": "code",
   "execution_count": 5,
   "metadata": {},
   "outputs": [],
   "source": [
    "rds='mssql'\n",
    "redshift={\n",
    "    \"ClusterId\": 'wangzyncluster1',\n",
    "    \"Host\": 'wangzyncluster1.coprq8ycemvc.us-east-1.redshift.amazonaws.com',\n",
    "    \"Database\": 'dev'}\n",
    "\n",
    "s3Bucket='spaceneedle-samplefiles.prod.us-east-1'\n",
    "s3Key='sales/manifest.json'\n",
    "vpc='sg-40b7521a'\n",
    "tag=[\n",
    "        {\n",
    "            'Key': 'testmigration',\n",
    "            'Value': 'true'\n",
    "        }\n",
    "    ]\n",
    "owner=targetadmin\n",
    "rdscredential={\n",
    "        'CredentialPair': {\n",
    "            'Username': \"\",\n",
    "            'Password': \"\"}}\n",
    "redshiftcredential={\n",
    "        'CredentialPair': {\n",
    "            'Username': \"\",\n",
    "            'Password': \"\"}}\n",
    "region='us-east-1'\n",
    "namespace='default'\n",
    "version='1' \n",
    "\n",
    "target=get_target(targetsession, rds,redshift,s3Bucket,s3Key,vpc,tag,owner,rdscredential,redshiftcredential)\n",
    "\n",
    "#JSON(target)"
   ]
  },
  {
   "cell_type": "code",
   "execution_count": 6,
   "metadata": {},
   "outputs": [
    {
     "name": "stdout",
     "output_type": "stream",
     "text": [
      "Creation of the directory Migration_Results/Successful/ failed\n",
      "Creation of the directory Migration_Results/Fail/ failed\n"
     ]
    }
   ],
   "source": [
    "#results output location\n",
    "successlocation = \"Migration_Results/Successful/\"\n",
    "faillocation = \"Migration_Results/Fail/\"\n",
    "\n",
    "import os\n",
    "try:\n",
    "    os.makedirs(successlocation)\n",
    "except OSError:\n",
    "    print (\"Creation of the directory %s failed\" % successlocation)\n",
    "else:\n",
    "    print (\"Successfully created the directory %s\" % successlocation)\n",
    "\n",
    "try:\n",
    "    os.makedirs(faillocation)\n",
    "except OSError:\n",
    "    print (\"Creation of the directory %s failed\" % faillocation)\n",
    "else:\n",
    "    print (\"Successfully created the directory %s\" % faillocation)"
   ]
  },
  {
   "cell_type": "markdown",
   "metadata": {},
   "source": [
    "Import functions from Functions.ipynb"
   ]
  },
  {
   "cell_type": "markdown",
   "metadata": {},
   "source": [
    "<strong>New Account Set Up Sample</strong>"
   ]
  },
  {
   "cell_type": "markdown",
   "metadata": {},
   "source": [
    "Migrate data sources"
   ]
  },
  {
   "cell_type": "code",
   "execution_count": null,
   "metadata": {},
   "outputs": [],
   "source": [
    "#data_sources function will return all the data sources of a specific AWS Account\n",
    "#data_sources ('Account ID', profile)\n",
    "\n",
    "#new account set up sample:\n",
    "datasources=data_sources(sourcesession)\n",
    "\n",
    "#get data sources which already migrated\n",
    "targetsources=data_sources(targetsession)\n",
    "\n",
    "#already_migrated record the data source ids of target account\n",
    "already_migrated=[]\n",
    "for tsource in targetsources:\n",
    "    already_migrated.append(tsource['DataSourceId'])\n",
    "   \n",
    "newsourceslist=[]\n",
    "faillist=[]\n",
    "for i in datasources:\n",
    "    if i['DataSourceId'] not in already_migrated and 'DataSourceParameters' in i:\n",
    "        newdsource=create_data_source (i, targetsession, target)\n",
    "        if 'Error' in newdsource:\n",
    "            faillist.append(newdsource)\n",
    "        \n",
    "        else: newsourceslist.append(newdsource)"
   ]
  },
  {
   "cell_type": "code",
   "execution_count": null,
   "metadata": {},
   "outputs": [],
   "source": [
    "with open(faillocation+now+'_Datasource_Creation_Error.json', \"w\") as f:\n",
    "            json.dump(faillist, f, indent=4, sort_keys=True, default=str)\n",
    "\n",
    "faillist2=[]\n",
    "successfulls=[]\n",
    "for news in newsourceslist:\n",
    "    datasource=describe_source(targetsession, news['DataSourceId'])\n",
    "\n",
    "    if datasource['DataSource']['Status']==\"CREATION_FAILED\":\n",
    "        delete_source (targetsession, news['DataSourceId'])\n",
    "        faillist2.append(news['DataSourceId'])\n",
    "    \n",
    "    if datasource['DataSource']['Status']==\"CREATION_SUCCESSFUL\":\n",
    "            successfulls.append(datasource['DataSource'])\n",
    "    \n",
    "    while datasource['DataSource']['Status']==\"CREATION_IN_PROGRESS\":\n",
    "        time.sleep(5)\n",
    "        datasource=describe_source(targetsession, news['DataSourceId'])\n",
    "        if datasource['DataSource']['Status']==\"CREATION_SUCCESSFUL\":\n",
    "            successfulls.append(datasource['DataSource'])\n",
    "            break\n",
    "        elif datasource['DataSource']['Status']==\"CREATION_FAILED\":\n",
    "            delete_source (targetsession, news['DataSourceId'])\n",
    "            faillist2.append(news['DataSourceId'])\n",
    "    \n",
    "with open(faillocation+now+'_Datasource_Creation_Fail.json', \"w\") as f:\n",
    "    json.dump(faillist2, f, indent=4, sort_keys=True, default=str)\n",
    "\n",
    "with open(successlocation+now+'_Datasource_Creation_Success.json', \"w\") as f:\n",
    "    json.dump(successfulls, f, indent=4, sort_keys=True, default=str)\n"
   ]
  },
  {
   "cell_type": "markdown",
   "metadata": {},
   "source": [
    "<strong>Delete objects<strong/>"
   ]
  },
  {
   "cell_type": "markdown",
   "metadata": {},
   "source": [
    "# THIS WILL DELETE ALL TARGET DATASETS\n",
    "\n",
    "delete = \"datasource\"\n",
    "\n",
    "if delete == \"datasource\":   \n",
    "    for datasource in data_sources(targetsession):\n",
    "        #if datasource['Type'] == \"REDSHIFT\":\n",
    "        try:\n",
    "            delete_source (targetsession, datasource['DataSourceId'])\n",
    "        except Exception: pass \n",
    "elif delete == \"dataset\":\n",
    "    for dataset in data_sets(targetsession):\n",
    "        delete_dataset (targetsession, dataset['DataSetId'])\n",
    "elif delete == \"template\":    \n",
    "    for template in templates(targetsession):\n",
    "        delete_template(targetsession, template['TemplateId'])\n",
    "elif delete == \"dashboard\":    \n",
    "    for dashboard in dashboards(targetsession):\n",
    "        delete_dashboard(targetsession, dashboard['DashboardId'])\n",
    "delete =\"don't delete anything\""
   ]
  },
  {
   "cell_type": "markdown",
   "metadata": {},
   "source": [
    "Get datasets list:"
   ]
  },
  {
   "cell_type": "code",
   "execution_count": 7,
   "metadata": {},
   "outputs": [
    {
     "data": {
      "application/json": [
       {
        "Arn": "arn:aws:quicksight:us-east-1:889399602426:dataset/010bb44d-7695-44b8-aef5-f76abb6fda1e",
        "CreatedTime": "2019-08-19T19:34:19.408000",
        "DataSetId": "010bb44d-7695-44b8-aef5-f76abb6fda1e",
        "ImportMode": "SPICE",
        "LastUpdatedTime": "2020-04-16T15:02:22.877000",
        "Name": "Repository"
       },
       {
        "Arn": "arn:aws:quicksight:us-east-1:889399602426:dataset/0128184e-9d1a-4f98-a73f-b9e9200a38b4",
        "CreatedTime": "2020-06-01T17:44:06.243000",
        "DataSetId": "0128184e-9d1a-4f98-a73f-b9e9200a38b4",
        "ImportMode": "SPICE",
        "LastUpdatedTime": "2020-06-04T18:41:36.957000",
        "Name": "Daily_State_Test"
       },
       {
        "Arn": "arn:aws:quicksight:us-east-1:889399602426:dataset/0427c1b6-77a7-494c-a7ef-d08a447ee6a4",
        "CreatedTime": "2020-04-15T15:56:46.398000",
        "DataSetId": "0427c1b6-77a7-494c-a7ef-d08a447ee6a4",
        "ImportMode": "SPICE",
        "LastUpdatedTime": "2020-04-15T15:56:46.495000",
        "Name": "test_data"
       },
       {
        "Arn": "arn:aws:quicksight:us-east-1:889399602426:dataset/134c66dc-0c1d-48f0-9272-b54d2fdfbd84",
        "CreatedTime": "2020-02-24T15:03:01.936000",
        "DataSetId": "134c66dc-0c1d-48f0-9272-b54d2fdfbd84",
        "ImportMode": "DIRECT_QUERY",
        "LastUpdatedTime": "2020-04-16T15:02:21.370000",
        "Name": "gstos3"
       },
       {
        "Arn": "arn:aws:quicksight:us-east-1:889399602426:dataset/1635998c-949a-4a40-be21-ea0a4d50fb1e",
        "CreatedTime": "2020-04-14T19:50:48.483000",
        "DataSetId": "1635998c-949a-4a40-be21-ea0a4d50fb1e",
        "ImportMode": "SPICE",
        "LastUpdatedTime": "2020-04-14T19:50:48.589000",
        "Name": "Sales Pipeline"
       },
       {
        "Arn": "arn:aws:quicksight:us-east-1:889399602426:dataset/17b0391d-79ee-47df-833e-b872d513a6a6",
        "CreatedTime": "2020-01-14T22:25:08.875000",
        "DataSetId": "17b0391d-79ee-47df-833e-b872d513a6a6",
        "ImportMode": "SPICE",
        "LastUpdatedTime": "2020-04-16T15:02:21.564000",
        "Name": "testrealtime"
       },
       {
        "Arn": "arn:aws:quicksight:us-east-1:889399602426:dataset/188de662-c86a-4d25-b785-dbc285a58924",
        "CreatedTime": "2020-07-16T22:08:03.753000",
        "DataSetId": "188de662-c86a-4d25-b785-dbc285a58924",
        "ImportMode": "SPICE",
        "LastUpdatedTime": "2020-07-16T22:08:03.853000",
        "Name": "test_data"
       },
       {
        "Arn": "arn:aws:quicksight:us-east-1:889399602426:dataset/2af8d589-032e-4c69-89fe-7cc82fd0c787",
        "CreatedTime": "2020-03-22T02:13:11.697000",
        "DataSetId": "2af8d589-032e-4c69-89fe-7cc82fd0c787",
        "ImportMode": "SPICE",
        "LastUpdatedTime": "2020-04-16T15:02:21.049000",
        "Name": "jhu_csse_covid_19_daily_reports__202003211205__202003211205"
       },
       {
        "Arn": "arn:aws:quicksight:us-east-1:889399602426:dataset/2f5233fa-b11f-4d57-bf6e-334939d7c651",
        "CreatedTime": "2019-07-06T19:03:08.930000",
        "DataSetId": "2f5233fa-b11f-4d57-bf6e-334939d7c651",
        "ImportMode": "SPICE",
        "LastUpdatedTime": "2020-04-16T15:02:22.974000",
        "Name": "Business Review"
       },
       {
        "Arn": "arn:aws:quicksight:us-east-1:889399602426:dataset/305df471-1fca-47ae-be23-c60b2db6cde9",
        "CreatedTime": "2020-06-12T18:54:01.403000",
        "DataSetId": "305df471-1fca-47ae-be23-c60b2db6cde9",
        "ImportMode": "SPICE",
        "LastUpdatedTime": "2020-06-12T18:58:47.107000",
        "Name": "NYT_Join_Population"
       },
       {
        "Arn": "arn:aws:quicksight:us-east-1:889399602426:dataset/32e59d4e-93c2-41f4-a1dc-ae8bf668ad8b",
        "CreatedTime": "2019-10-22T18:28:28.239000",
        "DataSetId": "32e59d4e-93c2-41f4-a1dc-ae8bf668ad8b",
        "ImportMode": "SPICE",
        "LastUpdatedTime": "2020-07-16T22:04:15.980000",
        "Name": "quicksightlog"
       },
       {
        "Arn": "arn:aws:quicksight:us-east-1:889399602426:dataset/38f421c5-1f3e-4c1c-a5e1-5c0e5319fecb",
        "CreatedTime": "2019-08-27T18:25:56.421000",
        "DataSetId": "38f421c5-1f3e-4c1c-a5e1-5c0e5319fecb",
        "ImportMode": "SPICE",
        "LastUpdatedTime": "2020-04-16T15:02:21.924000",
        "Name": "People Overview"
       },
       {
        "Arn": "arn:aws:quicksight:us-east-1:889399602426:dataset/3f71c4ef-e6fe-48f5-9ee6-40aa7802e0e4",
        "CreatedTime": "2019-08-27T18:25:56.857000",
        "DataSetId": "3f71c4ef-e6fe-48f5-9ee6-40aa7802e0e4",
        "ImportMode": "SPICE",
        "LastUpdatedTime": "2020-04-16T15:02:22.219000",
        "Name": "Web and Social Media Analytics"
       },
       {
        "Arn": "arn:aws:quicksight:us-east-1:889399602426:dataset/3fe2f010-e5bf-43c7-9b11-7b4e36216065",
        "CreatedTime": "2020-04-22T16:28:23.608000",
        "DataSetId": "3fe2f010-e5bf-43c7-9b11-7b4e36216065",
        "ImportMode": "SPICE",
        "LastUpdatedTime": "2020-04-22T16:28:23.698000",
        "Name": "Patient-Info"
       },
       {
        "Arn": "arn:aws:quicksight:us-east-1:889399602426:dataset/41c7616a-50b0-4a3b-be5b-1342a0fa6121",
        "CreatedTime": "2019-09-27T22:45:02.204000",
        "DataSetId": "41c7616a-50b0-4a3b-be5b-1342a0fa6121",
        "ImportMode": "SPICE",
        "LastUpdatedTime": "2020-04-16T15:02:22.352000",
        "Name": "athena"
       },
       {
        "Arn": "arn:aws:quicksight:us-east-1:889399602426:dataset/4aadc5d3-bc90-4df3-8cb6-2ed79557372c",
        "CreatedTime": "2020-05-26T22:34:20.037000",
        "DataSetId": "4aadc5d3-bc90-4df3-8cb6-2ed79557372c",
        "ImportMode": "SPICE",
        "LastUpdatedTime": "2020-05-26T22:34:20.125000",
        "Name": "datediff_test"
       },
       {
        "Arn": "arn:aws:quicksight:us-east-1:889399602426:dataset/4bb6c795-4498-404f-a305-4b845152fd28",
        "CreatedTime": "2019-08-27T21:10:46.989000",
        "DataSetId": "4bb6c795-4498-404f-a305-4b845152fd28",
        "ImportMode": "SPICE",
        "LastUpdatedTime": "2020-04-16T15:02:22.548000",
        "Name": "HRData_QuickSightSample"
       },
       {
        "Arn": "arn:aws:quicksight:us-east-1:889399602426:dataset/57638ed0-b1cc-4eb5-8960-1b9ac92485b9",
        "CreatedTime": "2020-06-15T18:19:40.234000",
        "DataSetId": "57638ed0-b1cc-4eb5-8960-1b9ac92485b9",
        "ImportMode": "DIRECT_QUERY",
        "LastUpdatedTime": "2020-06-15T18:19:40.234000",
        "Name": "Network Protection: Public Perimeter Scanning: Aproved to be public: Top Public Assets by platform"
       },
       {
        "Arn": "arn:aws:quicksight:us-east-1:889399602426:dataset/5ad84114-7c31-4f02-912c-85c35ebabcc2",
        "CreatedTime": "2020-05-07T19:35:45.037000",
        "DataSetId": "5ad84114-7c31-4f02-912c-85c35ebabcc2",
        "ImportMode": "SPICE",
        "LastUpdatedTime": "2020-05-16T17:14:09.964000",
        "Name": "Business Review"
       },
       {
        "Arn": "arn:aws:quicksight:us-east-1:889399602426:dataset/64a0b04a-643b-4ec1-b52c-e0e1e98c7664",
        "CreatedTime": "2019-08-27T20:53:31.551000",
        "DataSetId": "64a0b04a-643b-4ec1-b52c-e0e1e98c7664",
        "ImportMode": "SPICE",
        "LastUpdatedTime": "2020-04-16T15:02:22.653000",
        "Name": "People Overview_Edit"
       },
       {
        "Arn": "arn:aws:quicksight:us-east-1:889399602426:dataset/64e6fad1-d371-4dae-a899-6439b0440aa6",
        "CreatedTime": "2019-10-11T20:24:02.645000",
        "DataSetId": "64e6fad1-d371-4dae-a899-6439b0440aa6",
        "ImportMode": "SPICE",
        "LastUpdatedTime": "2020-05-14T23:00:29.913000",
        "Name": "ats_findings"
       },
       {
        "Arn": "arn:aws:quicksight:us-east-1:889399602426:dataset/6533c591-2f89-46dc-b0b7-d07047c7ef67",
        "CreatedTime": "2019-08-27T18:25:56.756000",
        "DataSetId": "6533c591-2f89-46dc-b0b7-d07047c7ef67",
        "ImportMode": "SPICE",
        "LastUpdatedTime": "2020-04-16T15:02:22.119000",
        "Name": "Business Review"
       },
       {
        "Arn": "arn:aws:quicksight:us-east-1:889399602426:dataset/6e287061-8a9e-4a9a-bc7a-ce35fb153510",
        "CreatedTime": "2020-04-01T15:59:48.353000",
        "DataSetId": "6e287061-8a9e-4a9a-bc7a-ce35fb153510",
        "ImportMode": "SPICE",
        "LastUpdatedTime": "2020-07-20T03:30:20.329000",
        "Name": "Recovered_Enigma_JHU_Daily"
       },
       {
        "Arn": "arn:aws:quicksight:us-east-1:889399602426:dataset/715c74e4-73c9-4b27-bb48-1e8713850ee4",
        "CreatedTime": "2019-07-06T19:03:09.042000",
        "DataSetId": "715c74e4-73c9-4b27-bb48-1e8713850ee4",
        "ImportMode": "SPICE",
        "LastUpdatedTime": "2020-04-16T15:02:23.077000",
        "Name": "People Overview"
       },
       {
        "Arn": "arn:aws:quicksight:us-east-1:889399602426:dataset/78b21d79-295b-4395-b2b8-e184c08d0df1",
        "CreatedTime": "2020-06-02T18:07:05.163000",
        "DataSetId": "78b21d79-295b-4395-b2b8-e184c08d0df1",
        "ImportMode": "DIRECT_QUERY",
        "LastUpdatedTime": "2020-06-02T18:07:05.163000",
        "Name": "Hospital"
       },
       {
        "Arn": "arn:aws:quicksight:us-east-1:889399602426:dataset/78c65c47-799d-4dea-b98c-cdf753b01f3c",
        "CreatedTime": "2020-04-06T17:58:49.860000",
        "DataSetId": "78c65c47-799d-4dea-b98c-cdf753b01f3c",
        "ImportMode": "SPICE",
        "LastUpdatedTime": "2020-06-01T17:22:36.991000",
        "Name": "StateK"
       },
       {
        "Arn": "arn:aws:quicksight:us-east-1:889399602426:dataset/7b62418f-58f7-49ad-9ce4-15c1fea22ff2",
        "CreatedTime": "2020-04-06T18:04:11.647000",
        "DataSetId": "7b62418f-58f7-49ad-9ce4-15c1fea22ff2",
        "ImportMode": "SPICE",
        "LastUpdatedTime": "2020-06-01T17:25:40.638000",
        "Name": "CountyK"
       },
       {
        "Arn": "arn:aws:quicksight:us-east-1:889399602426:dataset/82aae71f-85a1-418e-ae6d-12c0b416fa11",
        "CreatedTime": "2020-05-08T19:48:15.476000",
        "DataSetId": "82aae71f-85a1-418e-ae6d-12c0b416fa11",
        "ImportMode": "SPICE",
        "LastUpdatedTime": "2020-05-08T19:48:15.565000",
        "Name": "Ed_test"
       },
       {
        "Arn": "arn:aws:quicksight:us-east-1:889399602426:dataset/8414d61b-6742-4d8c-8ab8-6d347570f81f",
        "CreatedTime": "2019-09-05T19:10:20.489000",
        "DataSetId": "8414d61b-6742-4d8c-8ab8-6d347570f81f",
        "ImportMode": "SPICE",
        "LastUpdatedTime": "2020-04-16T15:02:22.452000",
        "Name": "Xtest.csv"
       },
       {
        "Arn": "arn:aws:quicksight:us-east-1:889399602426:dataset/88ee8468-919e-4c76-b082-ca2df6ad074a",
        "CreatedTime": "2020-03-22T00:21:33.276000",
        "DataSetId": "88ee8468-919e-4c76-b082-ca2df6ad074a",
        "ImportMode": "SPICE",
        "LastUpdatedTime": "2020-04-16T15:02:21.152000",
        "Name": "timeseries"
       },
       {
        "Arn": "arn:aws:quicksight:us-east-1:889399602426:dataset/8c2fa0c3-83b7-4410-b0f3-205fa15216ae",
        "CreatedTime": "2020-05-07T19:37:14.028000",
        "DataSetId": "8c2fa0c3-83b7-4410-b0f3-205fa15216ae",
        "ImportMode": "SPICE",
        "LastUpdatedTime": "2020-05-16T17:14:09.515000",
        "Name": "UserMapping"
       },
       {
        "Arn": "arn:aws:quicksight:us-east-1:889399602426:dataset/8cbcfc7a-7f89-4b49-afcc-096146b17010",
        "CreatedTime": "2020-04-14T19:50:49.078000",
        "DataSetId": "8cbcfc7a-7f89-4b49-afcc-096146b17010",
        "ImportMode": "SPICE",
        "LastUpdatedTime": "2020-04-14T19:50:49.183000",
        "Name": "Web and Social Media Analytics"
       },
       {
        "Arn": "arn:aws:quicksight:us-east-1:889399602426:dataset/8e5672b8-5d7b-4a17-b7fb-e5558031379c",
        "CreatedTime": "2020-03-23T01:25:14.365000",
        "DataSetId": "8e5672b8-5d7b-4a17-b7fb-e5558031379c",
        "ImportMode": "SPICE",
        "LastUpdatedTime": "2020-04-16T15:02:20.854000",
        "Name": "timeseries"
       },
       {
        "Arn": "arn:aws:quicksight:us-east-1:889399602426:dataset/9086d798-dfe1-4319-a70f-f8cd3d924cca",
        "CreatedTime": "2019-08-27T18:25:56.510000",
        "DataSetId": "9086d798-dfe1-4319-a70f-f8cd3d924cca",
        "ImportMode": "SPICE",
        "LastUpdatedTime": "2020-04-16T15:02:22.021000",
        "Name": "Sales Pipeline"
       },
       {
        "Arn": "arn:aws:quicksight:us-east-1:889399602426:dataset/90ba51a6-3a1a-4a93-b9fa-64d6fc66e9d7",
        "CreatedTime": "2020-04-14T19:50:48.563000",
        "DataSetId": "90ba51a6-3a1a-4a93-b9fa-64d6fc66e9d7",
        "ImportMode": "SPICE",
        "LastUpdatedTime": "2020-04-14T19:50:48.705000",
        "Name": "Business Review"
       },
       {
        "Arn": "arn:aws:quicksight:us-east-1:889399602426:dataset/956a8e9b-7c95-455a-a542-6bf0814b8bca",
        "CreatedTime": "2020-04-20T18:45:27.811000",
        "DataSetId": "956a8e9b-7c95-455a-a542-6bf0814b8bca",
        "ImportMode": "SPICE",
        "LastUpdatedTime": "2020-04-20T18:45:27.906000",
        "Name": "UserMapping"
       },
       {
        "Arn": "arn:aws:quicksight:us-east-1:889399602426:dataset/9d7ebc45-23ac-4e97-990a-2ff206084f21",
        "CreatedTime": "2019-08-21T22:17:28.262000",
        "DataSetId": "9d7ebc45-23ac-4e97-990a-2ff206084f21",
        "ImportMode": "SPICE",
        "LastUpdatedTime": "2020-04-16T15:02:22.777000",
        "Name": "TransfomationM"
       },
       {
        "Arn": "arn:aws:quicksight:us-east-1:889399602426:dataset/9e42abf6-444e-4681-8b08-52b651482f32",
        "CreatedTime": "2020-03-31T19:58:38.628000",
        "DataSetId": "9e42abf6-444e-4681-8b08-52b651482f32",
        "ImportMode": "SPICE",
        "LastUpdatedTime": "2020-07-20T03:31:23.577000",
        "Name": "jhu_nyt_daily_us"
       },
       {
        "Arn": "arn:aws:quicksight:us-east-1:889399602426:dataset/b33e99d4-f390-4d62-8602-b1aad6cc567c",
        "CreatedTime": "2020-04-16T14:21:08.813000",
        "DataSetId": "b33e99d4-f390-4d62-8602-b1aad6cc567c",
        "ImportMode": "SPICE",
        "LastUpdatedTime": "2020-04-21T19:56:27.852000",
        "Name": "rls_dataset",
        "RowLevelPermissionDataSet": {
         "Arn": "arn:aws:quicksight:us-east-1:889399602426:dataset/f14bffa3-0e16-45f0-9559-cb98283c3ee8",
         "PermissionPolicy": "GRANT_ACCESS"
        }
       },
       {
        "Arn": "arn:aws:quicksight:us-east-1:889399602426:dataset/ba7a373b-847d-42ec-8179-b39a8ba309c8",
        "CreatedTime": "2020-05-07T19:35:45.701000",
        "DataSetId": "ba7a373b-847d-42ec-8179-b39a8ba309c8",
        "ImportMode": "SPICE",
        "LastUpdatedTime": "2020-05-16T17:14:09.874000",
        "Name": "Web and Social Media Analytics"
       },
       {
        "Arn": "arn:aws:quicksight:us-east-1:889399602426:dataset/baf8760a-2e91-4f0b-98b1-7d57b0d51744",
        "CreatedTime": "2020-04-14T19:50:48.817000",
        "DataSetId": "baf8760a-2e91-4f0b-98b1-7d57b0d51744",
        "ImportMode": "SPICE",
        "LastUpdatedTime": "2020-04-14T19:50:48.910000",
        "Name": "People Overview"
       },
       {
        "Arn": "arn:aws:quicksight:us-east-1:889399602426:dataset/bcf1837b-d1bb-41c7-9dcb-3b2d6c62c66a",
        "CreatedTime": "2019-07-06T19:03:08.815000",
        "DataSetId": "bcf1837b-d1bb-41c7-9dcb-3b2d6c62c66a",
        "ImportMode": "SPICE",
        "LastUpdatedTime": "2020-04-16T15:02:23.281000",
        "Name": "Sales Pipeline"
       },
       {
        "Arn": "arn:aws:quicksight:us-east-1:889399602426:dataset/c0487cd6-6849-4f12-9130-3fe32443053b",
        "CreatedTime": "2020-05-07T19:35:45.980000",
        "DataSetId": "c0487cd6-6849-4f12-9130-3fe32443053b",
        "ImportMode": "SPICE",
        "LastUpdatedTime": "2020-05-16T17:14:09.763000",
        "Name": "People Overview"
       },
       {
        "Arn": "arn:aws:quicksight:us-east-1:889399602426:dataset/cd78c74f-9fac-418f-96a9-33d6405793a2",
        "CreatedTime": "2020-05-16T15:25:42.083000",
        "DataSetId": "cd78c74f-9fac-418f-96a9-33d6405793a2",
        "ImportMode": "SPICE",
        "LastUpdatedTime": "2020-05-16T15:25:42.211000",
        "Name": "TwittCovid"
       },
       {
        "Arn": "arn:aws:quicksight:us-east-1:889399602426:dataset/d541e7eb-a815-4dea-aab7-548bbed0fc1c",
        "CreatedTime": "2020-05-07T19:35:45.153000",
        "DataSetId": "d541e7eb-a815-4dea-aab7-548bbed0fc1c",
        "ImportMode": "SPICE",
        "LastUpdatedTime": "2020-05-16T17:14:10.056000",
        "Name": "Sales Pipeline"
       },
       {
        "Arn": "arn:aws:quicksight:us-east-1:889399602426:dataset/dcd90136-baf9-494c-adfa-02478c7b9f30",
        "CreatedTime": "2020-07-12T21:41:20.705000",
        "DataSetId": "dcd90136-baf9-494c-adfa-02478c7b9f30",
        "ImportMode": "SPICE",
        "LastUpdatedTime": "2020-07-12T21:41:20.810000",
        "Name": "countrycode"
       },
       {
        "Arn": "arn:aws:quicksight:us-east-1:889399602426:dataset/dfb55549-aa7f-49f2-a503-d488a8eb9bd6",
        "CreatedTime": "2020-05-15T01:04:02.217000",
        "DataSetId": "dfb55549-aa7f-49f2-a503-d488a8eb9bd6",
        "ImportMode": "SPICE",
        "LastUpdatedTime": "2020-05-15T01:04:02.348000",
        "Name": "Test_cross-source-join"
       },
       {
        "Arn": "arn:aws:quicksight:us-east-1:889399602426:dataset/e4394d4c-cd6f-44d8-bd0d-88a836ca9b3c",
        "CreatedTime": "2019-07-06T19:03:08.945000",
        "DataSetId": "e4394d4c-cd6f-44d8-bd0d-88a836ca9b3c",
        "ImportMode": "SPICE",
        "LastUpdatedTime": "2020-04-16T15:02:23.177000",
        "Name": "Web and Social Media Analytics"
       },
       {
        "Arn": "arn:aws:quicksight:us-east-1:889399602426:dataset/ebb2a51d-793f-4295-94af-7df3906c0bfa",
        "CreatedTime": "2019-10-13T21:58:57.990000",
        "DataSetId": "ebb2a51d-793f-4295-94af-7df3906c0bfa",
        "ImportMode": "SPICE",
        "LastUpdatedTime": "2020-04-16T15:02:21.468000",
        "Name": "Waste_Sites"
       },
       {
        "Arn": "arn:aws:quicksight:us-east-1:889399602426:dataset/ecb103d7-c799-438f-8395-55cb6765e7e0",
        "CreatedTime": "2020-04-16T22:02:53.782000",
        "DataSetId": "ecb103d7-c799-438f-8395-55cb6765e7e0",
        "ImportMode": "SPICE",
        "LastUpdatedTime": "2020-04-16T22:02:53.895000",
        "Name": "rlsrulegroup"
       },
       {
        "Arn": "arn:aws:quicksight:us-east-1:889399602426:dataset/f14bffa3-0e16-45f0-9559-cb98283c3ee8",
        "CreatedTime": "2020-04-16T14:47:14.989000",
        "DataSetId": "f14bffa3-0e16-45f0-9559-cb98283c3ee8",
        "ImportMode": "DIRECT_QUERY",
        "LastUpdatedTime": "2020-04-16T16:07:47.111000",
        "Name": "rls"
       },
       {
        "Arn": "arn:aws:quicksight:us-east-1:889399602426:dataset/f2a801e1-465b-4822-8c96-ac34642a1b03",
        "CreatedTime": "2020-07-01T16:32:51.460000",
        "DataSetId": "f2a801e1-465b-4822-8c96-ac34642a1b03",
        "ImportMode": "SPICE",
        "LastUpdatedTime": "2020-07-01T16:32:52.107000",
        "Name": "patient_info"
       },
       {
        "Arn": "arn:aws:quicksight:us-east-1:889399602426:dataset/f6937267-b8e3-46c9-8c8b-8fedb3be8cd0",
        "CreatedTime": "2020-03-22T00:07:53.582000",
        "DataSetId": "f6937267-b8e3-46c9-8c8b-8fedb3be8cd0",
        "ImportMode": "SPICE",
        "LastUpdatedTime": "2020-04-16T15:02:21.256000",
        "Name": "Code"
       },
       {
        "Arn": "arn:aws:quicksight:us-east-1:889399602426:dataset/ff083116-7b8b-462c-b966-b9145843639a",
        "CreatedTime": "2020-06-24T17:50:23.867000",
        "DataSetId": "ff083116-7b8b-462c-b966-b9145843639a",
        "ImportMode": "SPICE",
        "LastUpdatedTime": "2020-06-24T17:50:24.034000",
        "Name": "uploadmanifest"
       }
      ],
      "text/plain": [
       "<IPython.core.display.JSON object>"
      ]
     },
     "execution_count": 7,
     "metadata": {
      "application/json": {
       "expanded": false
      }
     },
     "output_type": "execute_result"
    }
   ],
   "source": [
    "datasets=data_sets(sourcesession)\n",
    "#JSON(datasets)"
   ]
  },
  {
   "cell_type": "markdown",
   "metadata": {},
   "source": [
    "Migrate Datasets"
   ]
  },
  {
   "cell_type": "code",
   "execution_count": null,
   "metadata": {},
   "outputs": [],
   "source": [
    "#get datasets which already migrated\n",
    "targetds=data_sets(targetsession)\n",
    "#already_migrated record the datasets ids of target account\n",
    "already_migrated=[]\n",
    "for ds in targetds:\n",
    "    already_migrated.append(ds['DataSetId'])\n",
    "#already_migrated"
   ]
  },
  {
   "cell_type": "code",
   "execution_count": null,
   "metadata": {},
   "outputs": [],
   "source": [
    "newsetslist=[]\n",
    "faillist=[]\n",
    "sts_client = targetsession.client(\"sts\")\n",
    "account_id = sts_client.get_caller_identity()[\"Account\"]\n",
    "for i in datasets:\n",
    "    if i['DataSetId'] not in already_migrated:\n",
    "        try:\n",
    "            res=describe_dataset(sourcesession, i['DataSetId'])\n",
    "        except Exception:\n",
    "            faillist.append({\"Dataset\": i, \"Error\": str(Exception)})\n",
    "            continue\n",
    "        #if 's3PhysicalTable' in res['DataSet']['PhysicalTableMap']:\n",
    "            #continue\n",
    "        #else:\n",
    "            #pass\n",
    "\n",
    "   \n",
    "        name=i['Name'].replace(\" \", \"_\")\n",
    "        datasetid=i['DataSetId']\n",
    "\n",
    "        PT=res['DataSet']['PhysicalTableMap']\n",
    "        # print(PT)\n",
    "        for key, value in PT.items():\n",
    "        #print(value)\n",
    "            for i,j in value.items():\n",
    "            #print(j)\n",
    "                dsid = j['DataSourceArn'].split(\"/\")[1]\n",
    "                j['DataSourceArn']='arn:aws:quicksight:us-east-1:'+account_id+':datasource/'+dsid\n",
    "\n",
    "        LT=res['DataSet']['LogicalTableMap']\n",
    "        \n",
    "        try: \n",
    "            newdataset=create_dataset(targetsession, datasetid, name, PT, LT, res['DataSet']['ImportMode'], target['datasetpermission'])\n",
    "            #print(\"new dataset: \", newdataset)\n",
    "            newsetslist.append(newdataset)\n",
    "        except Exception as e:\n",
    "            #print('failed: '+str(e))\n",
    "            faillist.append({\"DataSetId\": datasetid, \"Name\": name, \"Error\": str(e)})\n",
    "            \n",
    "            continue"
   ]
  },
  {
   "cell_type": "code",
   "execution_count": null,
   "metadata": {},
   "outputs": [],
   "source": [
    "#print fail informations\n",
    "with open(faillocation+now+'Dataset_Creation_Error.json', \"w\") as f:\n",
    "            json.dump(faillist, f, indent=4, sort_keys=True, default=str)\n",
    "\n",
    "successfulls=[]\n",
    "for news in newsetslist:\n",
    "    dataset=describe_dataset(targetsession, news['DataSetId'])\n",
    "    successfulls.append(dataset['DataSet'])\n",
    "    \n",
    "with open(successlocation+now+'Datasets_Creation_Success.json', \"w\") as f:\n",
    "    json.dump(successfulls, f, indent=4, sort_keys=True, default=str)\n"
   ]
  },
  {
   "cell_type": "markdown",
   "metadata": {},
   "source": [
    "Get dashboards list"
   ]
  },
  {
   "cell_type": "code",
   "execution_count": null,
   "metadata": {},
   "outputs": [],
   "source": [
    "sourcedashboards=dashboards(sourcesession)\n",
    "#dashboards"
   ]
  },
  {
   "cell_type": "markdown",
   "metadata": {},
   "source": [
    "Migrate dashboards"
   ]
  },
  {
   "cell_type": "code",
   "execution_count": null,
   "metadata": {},
   "outputs": [],
   "source": [
    "success=[]\n",
    "faillist=[]\n",
    "for i in sourcedashboards:\n",
    "    sourcedashboard=describe_dashboard(sourcesession, i['DashboardId'])\n",
    "    SourceEntityArn=sourcedashboard['Dashboard']['Version']['SourceEntityArn']\n",
    "    if SourceEntityArn.split(\"/\")[0].split(\":\")[-1]==\"analysis\":\n",
    "        sourceanalysis=sourcedashboard['Dashboard']['Version']['SourceEntityArn']\n",
    "    else: \n",
    "        faillist.append({\"Error Type\": \"Source Analysis is missing!\",\"DashboardId\": sourcetid, \"Name\": sourcetname, \"Error\": \"Source Analysis is missing!\"})\n",
    "        continue\n",
    "    sourceversion=sourcedashboard['Dashboard']['Version']['VersionNumber']\n",
    "    sourcedid=sourcedashboard['Dashboard']['DashboardId']\n",
    "    sourcedname=sourcedashboard['Dashboard']['Name']\n",
    "    sourcetid=sourcedid\n",
    "    sourcetname=sourcedname\n",
    "    targettid=sourcetid\n",
    "    targettname=sourcedname\n",
    "    DataSetArns=sourcedashboard['Dashboard']['Version']['DataSetArns']\n",
    "    sourcedsref = []\n",
    "    #print(sourcedname)\n",
    "    for i in DataSetArns:\n",
    "        missing=False\n",
    "        did = i.split(\"/\")[1]\n",
    "        #print(did)\n",
    "        try:\n",
    "            dname=get_dataset_name(did, sourcesession)\n",
    "        except Exception as e:\n",
    "            faillist.append({\"Error Type\": \"Dataset: \"+did+\" is missing!\",\"DashboardId\": sourcetid, \"Name\": sourcetname, \"Error\": str(e)})\n",
    "            missing=True\n",
    "            break\n",
    "            \n",
    "        sourcedsref.append({'DataSetPlaceholder': dname,\n",
    "                    'DataSetArn': i})\n",
    "    if missing: continue\n",
    "    try:\n",
    "        sourcetemplate = create_template(sourcesession, sourcetid, sourcetname, sourcedsref, sourceanalysis, '1')\n",
    "        sourcetemplate=describe_template(sourcesession,sourcetid)\n",
    "    except Exception as e:\n",
    "        faillist.append({\"Error Type\": \"Create Source Template Error\",\"DashboardId\": sourcetid, \"Name\": sourcetname, \"Error\": str(e)})\n",
    "        continue\n",
    "    \n",
    "    while sourcetemplate['Template']['Version']['Status']==\"CREATION_IN_PROGRESS\":\n",
    "        time.sleep(5)\n",
    "        sourcetemplate=describe_template(sourcesession,sourcetid)\n",
    "        if sourcetemplate['Template']['Version']['Status']==\"CREATION_SUCCESSFUL\":\n",
    "            try:\n",
    "                updateres=update_template_permission(sourcesession, sourcetid, targetroot)\n",
    "            except Exception as e:\n",
    "                delete_template(sourcesession, sourcetid)\n",
    "                faillist.append({\"Error Type\": \"Update Source Template Permission Error\",\n",
    "                                 \"DashboardId\": sourcetid, \n",
    "                                 \"Name\": sourcetname, \n",
    "                                 \"Error\": str(e)})\n",
    "    else: \n",
    "        if sourcetemplate['Template']['Version']['Status']==\"CREATION_SUCCESSFUL\":\n",
    "            try:\n",
    "                updateres=update_template_permission(sourcesession, sourcetid, targetroot)\n",
    "            except Exception as e:\n",
    "                delete_template(sourcesession, sourcetid)\n",
    "                faillist.append({\"Error Type\": \"Update Source Template Permission Error\",\n",
    "                                 \"DashboardId\": sourcetid, \n",
    "                                 \"Name\": sourcetname, \n",
    "                                 \"Error\": str(e)})\n",
    "                continue\n",
    "\n",
    "    if updateres['Status']==200:\n",
    "        try:\n",
    "            targettemplate=copy_template(targetsession, targettid, targettname, updateres['TemplateArn'])\n",
    "        except Exception as e:\n",
    "            delete_template(sourcesession, sourcetid)\n",
    "            faillist.append({\"Error Type\": \"Copy Template Error\",\n",
    "                             \"DashboardId\": sourcetid, \n",
    "                             \"Name\": sourcetname, \n",
    "                             \"Error\": str(e)}) \n",
    "            continue\n",
    "    else: \n",
    "        delete_template(sourcesession, sourcetid)\n",
    "        faillist.append({\"Error Type\": \"Update Source Template Permission Error\",\n",
    "                                 \"DashboardId\": sourcetid, \n",
    "                                 \"Name\": sourcetname, \n",
    "                                 \"Error\": str(e)})\n",
    "        continue\n",
    "    \n",
    "    targettemplate=describe_template(targetsession,targettid)\n",
    "   \n",
    "    while targettemplate['Template']['Version']['Status']==\"CREATION_IN_PROGRESS\":\n",
    "        time.sleep(5)\n",
    "        targettemplate=describe_template(targetsession,targettid)\n",
    "        if targettemplate['Template']['Version']['Status']==\"CREATION_SUCCESSFUL\":\n",
    "            break\n",
    "    else: \n",
    "        if targettemplate['Template']['Version']['Status']==\"CREATION_SUCCESSFUL\":\n",
    "            print(\"Template is successful copied!\")\n",
    "        else: \n",
    "            delete_template(targetsession, targettid)\n",
    "            faillist.append({\"Error Type\": \"Copy Template Error\",\n",
    "                                 \"DashboardId\": sourcetid, \n",
    "                                 \"Name\": sourcetname, \n",
    "                                 \"Error\": str(e)})\n",
    "            continue\n",
    "    \n",
    "    ds=data_sets (targetsession)\n",
    "    Template=targettemplate['Template']\n",
    "    dsref=[]\n",
    "    \n",
    "    missing=False\n",
    "    for i in Template['Version']['DataSetConfigurations']:\n",
    "    #print(i)\n",
    "        n=Template['Version']['DataSetConfigurations'].index(i)\n",
    "    #print(n)\n",
    "        for j in ds:\n",
    "            if i['Placeholder']==j['Name']:\n",
    "                dsref.append({\n",
    "                    'DataSetPlaceholder': i['Placeholder'],\n",
    "                    'DataSetArn': j['Arn']\n",
    "                })\n",
    "            if n>len(dsref): \n",
    "                e=\"Dataset \"+i['Placeholder']+\"is missing!\"\n",
    "                faillist.append({\"Error Type\": \"Datasets in target env are missing for this dashboard\",\n",
    "                                 \"DashboardId\": sourcetid, \n",
    "                                 \"Name\": sourcetname, \n",
    "                                 \"Error\": str(e)})\n",
    "                missing=True\n",
    "                break\n",
    "        if missing: break\n",
    "    if missing: continue\n",
    "        \n",
    "    SourceEntity={\n",
    "        'SourceTemplate': {\n",
    "            'DataSetReferences': dsref,\n",
    "            'Arn': Template['Arn']\n",
    "        }\n",
    "    }\n",
    "    #print(SourceEntity)\n",
    "    dashboard=describe_dashboard(targetsession, targettid)\n",
    "\n",
    "    if 'Faild to describe dashboard:' in dashboard:\n",
    "        if 'dashboard/'+targettid+' is not found' in dashboard:\n",
    "            print(\"Create new dashboard now:\")\n",
    "            try:\n",
    "                newdashboard=create_dashboard(targetsession, targettid, targettname,targetadmin, SourceEntity, '1', filter='ENABLED',csv='ENABLED', sheetcontrol='COLLAPSED')\n",
    "            except Exception as e:\n",
    "                delete_template(targetsession, targettid)\n",
    "                faillist.append({\"Error Type\": \"Create New Dashboard Error\",\n",
    "                                 \"DashboardId\": targettid, \n",
    "                                 \"Name\": targettname, \n",
    "                                 \"Error\": str(e)}) \n",
    "                continue\n",
    "        else: \n",
    "            faillist.append({\"Error Type\": \"Describe Target Dashboard Error\",\n",
    "                                 \"DashboardId\": targettid, \n",
    "                                 \"Name\": targettname, \n",
    "                                 \"Error\": str(dashboard)}) \n",
    "            continue\n",
    "    elif dashboard['Dashboard']['Version']['Status']==\"CREATION_FAILED\":\n",
    "        res=delete_dashboard(targetsession, targettid)\n",
    "        try:\n",
    "            newdashboard=create_dashboard(targetsession, targettid, targettname,targetadmin, SourceEntity, '1', filter='ENABLED',csv='ENABLED', sheetcontrol='COLLAPSED')\n",
    "        except Exception as e:\n",
    "            delete_template(targetsession, targettid)\n",
    "            faillist.append({\"Error Type\": \"Create Dashboard Error\",\n",
    "                                 \"DashboardId\": targettid, \n",
    "                                 \"Name\": targettname, \n",
    "                                 \"Error\": str(e)})\n",
    "            continue\n",
    "            \n",
    "    else:\n",
    "        print(\"dashboard is existing. update it now.\")\n",
    "        try:\n",
    "            newdashboard=update_dashboard(targetsession, targettid, targettname, SourceEntity, target['version'], filter='ENABLED',csv='ENABLED', sheetcontrol='EXPANDED')\n",
    "        except Exception as e:\n",
    "            delete_template(targetsession, targettid)\n",
    "            faillist.append({\"Error Type\": \"Update Dashboard Error\",\n",
    "                                 \"DashboardId\": targettid, \n",
    "                                 \"Name\": targettname, \n",
    "                                 \"Error\": str(e)})\n",
    "            continue\n",
    "\n",
    "    res=describe_dashboard(targetsession,newdashboard['DashboardId'])\n",
    "    \n",
    "    if res['Status']==200:\n",
    "        status=res['Dashboard']['Version']['Status']\n",
    "        if status=='CREATION_SUCCESSFUL' or status=='UPDATE_SUCCESSFUL':\n",
    "            success.append(res['Dashboard'])\n",
    "            #filename=\"Migration_Results/Successful/Dashboard_\"+res['Dashboard']['Name']+\".json\"\n",
    "        else:\n",
    "            faillist.append({\"Error Type\": \"Dashboard Creation Status is not Successful\", \"Dashboard\": res['Dashboard']})\n",
    "\n",
    "            #filename=\"Migration_Results/Fail/Dashboard_\"+res['Dashboard']['Name']+\".json\""
   ]
  },
  {
   "cell_type": "code",
   "execution_count": null,
   "metadata": {},
   "outputs": [],
   "source": [
    "with open(faillocation+now+'Dashboard_Error.json', \"w\") as f:\n",
    "            json.dump(faillist, f, indent=4, sort_keys=True, default=str)\n",
    "\n",
    "with open(successlocation+now+'Dashboard_Success.json', \"w\") as f:\n",
    "    json.dump(success, f, indent=4, sort_keys=True, default=str)\n"
   ]
  }
 ],
 "metadata": {
  "kernelspec": {
   "display_name": "conda_python3",
   "language": "python",
   "name": "conda_python3"
  },
  "language_info": {
   "codemirror_mode": {
    "name": "ipython",
    "version": 3
   },
   "file_extension": ".py",
   "mimetype": "text/x-python",
   "name": "python",
   "nbconvert_exporter": "python",
   "pygments_lexer": "ipython3",
   "version": "3.6.10"
  },
  "toc-showcode": false,
  "toc-showmarkdowntxt": true
 },
 "nbformat": 4,
 "nbformat_minor": 4
}
